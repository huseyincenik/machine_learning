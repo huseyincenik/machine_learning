{
 "cells": [
  {
   "cell_type": "markdown",
   "id": "e31ebc1b",
   "metadata": {},
   "source": [
    "# <p style=\"background-color:#FF6961; font-family:newtimeroman;color:#FFF9ED;font-size:220%; text-align:center; border-radius: 15px 55px;\">📈 Multiple Linear Regression and Regression Error Metrics 📚</p>\n"
   ]
  },
  {
   "cell_type": "markdown",
   "id": "fa8ef1ee",
   "metadata": {},
   "source": [
    "\n",
    "<img src=https://miro.medium.com/max/1400/1*_xszvgfP2xIQz7krzbJMOA.png width=\"700\" height=\"200\">\n"
   ]
  },
  {
   "cell_type": "markdown",
   "id": "5ac69444",
   "metadata": {},
   "source": [
    "<h3 style=\"text-align:center;font-size:200%;\">Progress Bars</h3>\n",
    "<div class=\"progress\">\n",
    "  <div class=\"progress-bar bg-danger\" role=\"progressbar\" style=\"width: 0%;\" aria-valuenow=\"0\" aria-valuemin=\"0\" aria-valuemax=\"100\">0%</div>\n",
    "</div>\n",
    "\n"
   ]
  },
  {
   "cell_type": "markdown",
   "id": "f879f589",
   "metadata": {},
   "source": [
    "<h6><span class=\"label label-danger\">Attention</span> You can access the entire study through the following links. Good luck with your work. </h6>"
   ]
  },
  {
   "cell_type": "markdown",
   "id": "8f481b35",
   "metadata": {},
   "source": [
    "<ul class=\"nav flex-column\">\n",
    "  <h3 class=\"list-group-item list-group-item-action active\" data-toggle=\"list\" role=\"tab\" aria-controls=\"home\" style=\"background-color:#FF6961; color:white\"><b> 📈 Multiple Linear Regression and Regression Error Metrics 📚\n",
    " </b></h3>\n",
    "  <li class=\"nav-item\">\n",
    "    <a class=\"nav-link\" style=\"background-color:; color:red\" href=\"https://github.com/huseyincenik/machine_learning/tree/main/Project/multiple_linear_regression_and_regression_error_metrics\"><b>Github Notebook Link</b></a>\n",
    "  </li>\n",
    "    <li class=\"nav-item\">\n",
    "    <a class=\"nav-link\" style=\"background-color:; color:blue\" href=\"https://www.kaggle.com/huseyincenik/multiple-linear-regression-and-regression-error\"><b>Kaggle Notebook Link</b></a>\n",
    "  </li>  \n",
    "  <li class=\"nav-item\">\n",
    "    <a class=\"nav-link\" style=\"background-color:; color:green\" href=\"https://www.linkedin.com/in/huseyincenik/\"><b>My Linkedin Account</b></a>\n",
    "  </li>\n",
    "</ul>\n"
   ]
  },
  {
   "cell_type": "markdown",
   "id": "2dce25c7",
   "metadata": {},
   "source": [
    "<a id=\"toc\"></a>\n",
    "<div style=\"border-radius: 10px;\n",
    "            border: black solid;\n",
    "            background-color: lightblue;\n",
    "            font-size: 100%;\n",
    "            text-align: left;\n",
    "            box-shadow: 2px 2px 4px rgba(0, 0, 0, 0.5);\">\n",
    "<h2 style=\"border: 0; border-radius: 15px; font-weight: bold; font-size: 220%; color: white; background-color: red;\"><center> ✍✍ Content ✍✍</center></h2>  \n",
    "<div style=\"display: flex;\">\n",
    "    <hr style=\"border: none;\n",
    "               height: 2px;\n",
    "               width: 100%;\n",
    "               background-color: linear-gradient(to right, blue, white);\n",
    "               box-shadow: 0px 2px 4px rgba(0, 0, 0, 0.5);\n",
    "               margin-left: 0;\">\n",
    "</div>      \n",
    "<div>\n",
    "  <ul style=\"background-color: white;\">\n",
    "    <li><a href=\"#1\">Dataset Explanation</a></li>\n",
    "    <li><a href=\"#2\">Importing Libraries Needed in This Notebook</a></li>\n",
    "    <li><a href=\"#3\">Reading & Understanding Data</a></li>\n",
    "    <li><a href=\"#4\">Distribution of features</a></li>\n",
    "    <li><a href=\"#5\">Train-Test Split</a></li> \n",
    "    <li><a href=\"#6\">Model Fitting and Compare Actual and Predicted Labels</a></li>\n",
    "    <li><a href=\"#7\">Error Metrics</a></li>\n",
    "    <li><a href=\"#8\">Adjusted R2</a></li>\n",
    "    <li><a href=\"#9\"> What is the concept of punishment for RMSE error metric?</a></li>\n",
    "    <li><a href=\"#10\">Evaluation Model</a></li>\n",
    "    <li><a href=\"#11\">Is data suitable for linear regression?</a></li>\n",
    "    <li><a href=\"#12\">Prediction Error for LinearRegression</a></li>\n",
    "    <li><a href=\"#13\">Retraining Model on Full Data </a></li>\n",
    "    <li><a href=\"#14\">Coefficients</a></li>\n",
    "    <li><a href=\"#15\">Prediction on New Data</a></li>\n",
    "    <li><a href=\"#16\">The effect of features on the predicted label</a></li>\n",
    "  </ul>\n",
    "</div>\n",
    "<div style=\"display: flex;\">\n",
    "    <hr style=\"border: none;\n",
    "               height: 2px;\n",
    "               width: 100%;\n",
    "               background-color: linear-gradient(to right, blue, white);\n",
    "               box-shadow: 0px 2px 4px rgba(0, 0, 0, 0.5);\n",
    "               margin-left: 0;\">\n",
    "</div>\n",
    "<div>\n",
    "  <ul style=\"background-color: white;\">\n",
    "    <li><a href=\"#the_end\">THE END </a></li>\n",
    "  </ul>\n",
    "</div>\n",
    "</div>"
   ]
  },
  {
   "cell_type": "markdown",
   "id": "c327d395",
   "metadata": {},
   "source": [
    "<a id=\"1\"></a>\n",
    "# <p style=\"background-color:#3498DB; font-family:newtimeroman;color:#FFF9ED; font-size:150%; text-align:center; border-radius: 15px 50px;\"> ✨ Dataset Explanation ✨</p>\n"
   ]
  },
  {
   "cell_type": "markdown",
   "id": "1c5471df",
   "metadata": {},
   "source": [
    "<a href=\"#toc\" class=\"btn btn-warning btn-lg active\" role=\"button\" aria-pressed=\"true\" style=\"color:black;\">Content</a>"
   ]
  },
  {
   "cell_type": "markdown",
   "id": "035de1f1",
   "metadata": {},
   "source": [
    "<div style=\"border-radius: 10px; border: 1px solid black; background-color:#3498DB ; font-size: 100%; text-align: left; box-shadow: 2px 2px 4px rgba(0, 0, 0, 0.5); padding: 10px; margin-bottom: 20px;\">\n",
    "    <h2 style=\"border: 0; border-radius: 15px; font-weight: bold; font-size: 220%; color: #FF5733; background-color: white; padding: 10px; text-align: center; text-shadow: 2px 2px 4px rgba(0, 0, 0, 0.5);\">⚡️ Dataset Description ⚡️</h2>\n",
    "    <p>\n",
    "     <strong style=\"color: white;\">Data Fields:</strong>\n",
    "      <ul>\n",
    "            <li><span style=\"color: white;\">TV:</span> TV advertising expenditures (in dollars)</li>\n",
    "            <li><span style=\"color: white;\">radio:</span> Radio advertising expenditures (in dollars)</li>\n",
    "            <li><span style=\"color: white;\">newspaper:</span> Newspaper advertising expenditures (in dollars)</li>\n",
    "            <li><span style=\"color: white;\">sales:</span> Sales (number of units of the product sold)</li>\n",
    "      </ul>\n",
    "    </p>\n",
    "</div>\n"
   ]
  },
  {
   "cell_type": "markdown",
   "id": "3838f2dd",
   "metadata": {},
   "source": [
    "<a href=\"#toc\" class=\"btn btn-warning btn-lg active\" role=\"button\" aria-pressed=\"true\" style=\"color:black;\">Content</a>"
   ]
  },
  {
   "cell_type": "markdown",
   "id": "f3f2d2b5",
   "metadata": {},
   "source": [
    "<a id=\"2\"></a>\n",
    "# <p style=\"background-color:#3498DB; font-family:newtimeroman;color:#FFF9ED; font-size:150%; text-align:center; border-radius: 15px 50px;\"> ✨ Importing Libraries Needed in This Notebook ✨</p>"
   ]
  },
  {
   "cell_type": "code",
   "execution_count": 88,
   "id": "portable-subscriber",
   "metadata": {
    "id": "portable-subscriber"
   },
   "outputs": [],
   "source": [
    "import numpy as np\n",
    "import pandas as pd\n",
    "import matplotlib\n",
    "import matplotlib.pyplot as plt\n",
    "import seaborn as sns\n",
    "import scipy\n",
    "import scipy.stats as stats\n",
    "import warnings\n",
    "import sklearn\n",
    "\n",
    "\n",
    "warnings.filterwarnings(\"ignore\")\n",
    "%matplotlib inline\n",
    "\n",
    "plt.rcParams[\"figure.figsize\"] = (10,7)"
   ]
  },
  {
   "cell_type": "code",
   "execution_count": 90,
   "id": "ab7351f1",
   "metadata": {},
   "outputs": [
    {
     "name": "stdout",
     "output_type": "stream",
     "text": [
      "numpy version: 1.23.5\n",
      "pandas version: 1.5.3\n",
      "matplotlib version: 3.7.0\n",
      "seaborn version: 0.12.2\n",
      "scipy version: 1.10.0\n",
      "sklearn version: 1.2.1\n"
     ]
    }
   ],
   "source": [
    "libraries = [np, pd, matplotlib, sns, scipy, sklearn]\n",
    "\n",
    "for library in libraries:\n",
    "    print(f\"{library.__name__} version: {library.__version__}\")"
   ]
  },
  {
   "cell_type": "markdown",
   "id": "9722e75a",
   "metadata": {},
   "source": [
    "<a id=\"3\"></a>\n",
    "# <p style=\"background-color:#3498DB; font-family:newtimeroman;color:#FFF9ED; font-size:150%; text-align:center; border-radius: 15px 50px;\"> ✨ Reading & Understanding Data ✨</p>"
   ]
  },
  {
   "cell_type": "code",
   "execution_count": 2,
   "id": "powerful-belfast",
   "metadata": {
    "id": "powerful-belfast",
    "outputId": "2725901f-43e7-4a5d-d17d-904a5abe0ce4"
   },
   "outputs": [
    {
     "data": {
      "text/html": [
       "<div>\n",
       "<style scoped>\n",
       "    .dataframe tbody tr th:only-of-type {\n",
       "        vertical-align: middle;\n",
       "    }\n",
       "\n",
       "    .dataframe tbody tr th {\n",
       "        vertical-align: top;\n",
       "    }\n",
       "\n",
       "    .dataframe thead th {\n",
       "        text-align: right;\n",
       "    }\n",
       "</style>\n",
       "<table border=\"1\" class=\"dataframe\">\n",
       "  <thead>\n",
       "    <tr style=\"text-align: right;\">\n",
       "      <th></th>\n",
       "      <th>TV</th>\n",
       "      <th>radio</th>\n",
       "      <th>newspaper</th>\n",
       "      <th>sales</th>\n",
       "    </tr>\n",
       "  </thead>\n",
       "  <tbody>\n",
       "    <tr>\n",
       "      <th>0</th>\n",
       "      <td>230.1</td>\n",
       "      <td>37.8</td>\n",
       "      <td>69.2</td>\n",
       "      <td>22.1</td>\n",
       "    </tr>\n",
       "    <tr>\n",
       "      <th>1</th>\n",
       "      <td>44.5</td>\n",
       "      <td>39.3</td>\n",
       "      <td>45.1</td>\n",
       "      <td>10.4</td>\n",
       "    </tr>\n",
       "    <tr>\n",
       "      <th>2</th>\n",
       "      <td>17.2</td>\n",
       "      <td>45.9</td>\n",
       "      <td>69.3</td>\n",
       "      <td>9.3</td>\n",
       "    </tr>\n",
       "    <tr>\n",
       "      <th>3</th>\n",
       "      <td>151.5</td>\n",
       "      <td>41.3</td>\n",
       "      <td>58.5</td>\n",
       "      <td>18.5</td>\n",
       "    </tr>\n",
       "    <tr>\n",
       "      <th>4</th>\n",
       "      <td>180.8</td>\n",
       "      <td>10.8</td>\n",
       "      <td>58.4</td>\n",
       "      <td>12.9</td>\n",
       "    </tr>\n",
       "    <tr>\n",
       "      <th>...</th>\n",
       "      <td>...</td>\n",
       "      <td>...</td>\n",
       "      <td>...</td>\n",
       "      <td>...</td>\n",
       "    </tr>\n",
       "    <tr>\n",
       "      <th>195</th>\n",
       "      <td>38.2</td>\n",
       "      <td>3.7</td>\n",
       "      <td>13.8</td>\n",
       "      <td>7.6</td>\n",
       "    </tr>\n",
       "    <tr>\n",
       "      <th>196</th>\n",
       "      <td>94.2</td>\n",
       "      <td>4.9</td>\n",
       "      <td>8.1</td>\n",
       "      <td>9.7</td>\n",
       "    </tr>\n",
       "    <tr>\n",
       "      <th>197</th>\n",
       "      <td>177.0</td>\n",
       "      <td>9.3</td>\n",
       "      <td>6.4</td>\n",
       "      <td>12.8</td>\n",
       "    </tr>\n",
       "    <tr>\n",
       "      <th>198</th>\n",
       "      <td>283.6</td>\n",
       "      <td>42.0</td>\n",
       "      <td>66.2</td>\n",
       "      <td>25.5</td>\n",
       "    </tr>\n",
       "    <tr>\n",
       "      <th>199</th>\n",
       "      <td>232.1</td>\n",
       "      <td>8.6</td>\n",
       "      <td>8.7</td>\n",
       "      <td>13.4</td>\n",
       "    </tr>\n",
       "  </tbody>\n",
       "</table>\n",
       "<p>200 rows × 4 columns</p>\n",
       "</div>"
      ],
      "text/plain": [
       "        TV  radio  newspaper  sales\n",
       "0    230.1   37.8       69.2   22.1\n",
       "1     44.5   39.3       45.1   10.4\n",
       "2     17.2   45.9       69.3    9.3\n",
       "3    151.5   41.3       58.5   18.5\n",
       "4    180.8   10.8       58.4   12.9\n",
       "..     ...    ...        ...    ...\n",
       "195   38.2    3.7       13.8    7.6\n",
       "196   94.2    4.9        8.1    9.7\n",
       "197  177.0    9.3        6.4   12.8\n",
       "198  283.6   42.0       66.2   25.5\n",
       "199  232.1    8.6        8.7   13.4\n",
       "\n",
       "[200 rows x 4 columns]"
      ]
     },
     "execution_count": 2,
     "metadata": {},
     "output_type": "execute_result"
    }
   ],
   "source": [
    "df = pd.read_csv(\"Advertising.csv\")\n",
    "df"
   ]
  },
  {
   "cell_type": "markdown",
   "id": "854f7be2",
   "metadata": {
    "id": "854f7be2"
   },
   "source": [
    "<a id=\"part_1_reading\"></a>\n",
    "- **<span style=\"color:#3498DB;\">Independent Variable</span>** (also known as **<span style=\"color:#3498DB;\">Feature</span>**, **<span style=\"color:#3498DB;\">Estimator</span>**, **<span style=\"color:#3498DB;\">Attribute</span>**, **<span style=\"color:#3498DB;\">Input</span>**, **<span style=\"color:#3498DB;\">Explanatory Variable</span>**):\n",
    "  - The variables that are manipulated or analyzed in a statistical model. They are the input values used to predict the dependent variable.\n",
    "\n",
    "- **<span style=\"color:#3498DB;\">Dependent Variable</span>** (also known as **<span style=\"color:#3498DB;\">Target</span>**, **<span style=\"color:#3498DB;\">Label</span>**, **<span style=\"color:#3498DB;\">Output</span>**, **<span style=\"color:#3498DB;\">Response Variable</span>**):\n",
    "  - The variable that is being predicted or explained in a statistical model. It is the output value that you want to understand or predict.\n",
    "\n",
    "- **<span style=\"color:#3498DB;\">Rows</span>** (also known as **<span style=\"color:#3498DB;\">Observation</span>**, **<span style=\"color:#3498DB;\">Sample</span>**):\n",
    "  - Individual data points or entries in a dataset. Each row typically represents a unique instance or observation.\n",
    "\n",
    "- **<span style=\"color:#3498DB;\">Features</span>**:\n",
    "  - The set of independent variables used in a machine learning model. In this context, the features are {TV, radio, newspaper}.\n",
    "\n",
    "- **<span style=\"color:#3498DB;\">Target</span>**:\n",
    "  - The dependent variable that a machine learning model is trying to predict. In this context, the target is \"sales\".\n"
   ]
  },
  {
   "cell_type": "code",
   "execution_count": 3,
   "id": "coated-bowling",
   "metadata": {
    "id": "coated-bowling",
    "outputId": "b636c45b-ad91-4183-a325-e4167aa06e08"
   },
   "outputs": [
    {
     "name": "stdout",
     "output_type": "stream",
     "text": [
      "<class 'pandas.core.frame.DataFrame'>\n",
      "RangeIndex: 200 entries, 0 to 199\n",
      "Data columns (total 4 columns):\n",
      " #   Column     Non-Null Count  Dtype  \n",
      "---  ------     --------------  -----  \n",
      " 0   TV         200 non-null    float64\n",
      " 1   radio      200 non-null    float64\n",
      " 2   newspaper  200 non-null    float64\n",
      " 3   sales      200 non-null    float64\n",
      "dtypes: float64(4)\n",
      "memory usage: 6.4 KB\n"
     ]
    }
   ],
   "source": [
    "df.info()"
   ]
  },
  {
   "cell_type": "code",
   "execution_count": 4,
   "id": "interpreted-zealand",
   "metadata": {
    "id": "interpreted-zealand",
    "outputId": "9cfa5b31-3912-4d14-a98c-034c782fefe1"
   },
   "outputs": [
    {
     "data": {
      "text/plain": [
       "(200, 4)"
      ]
     },
     "execution_count": 4,
     "metadata": {},
     "output_type": "execute_result"
    }
   ],
   "source": [
    "df.shape"
   ]
  },
  {
   "cell_type": "markdown",
   "id": "9cf79062",
   "metadata": {},
   "source": [
    "<button type=\"button\" class=\"btn btn-lg btn-danger\" data-toggle=\"popover\" title=\"Popover title\">Info</button>\n"
   ]
  },
  {
   "cell_type": "markdown",
   "id": "31070b3d",
   "metadata": {},
   "source": [
    "<div style=\"background-color:#3498DB; padding:10px; border-radius: 10px; box-shadow: 2px 2px 4px rgba(0, 0, 0, 0.5);\">\n",
    "    <p style=\"font-weight: bold; color: white;\">Please take note of the statistical measures for numeric features:</p>\n",
    "    <ul>\n",
    "        <li><span style=\"color: white;\">Mean:</span> This represents the average value of the numeric feature.</li>\n",
    "        <li><span style=\"color: white;\">Std:</span> The standard deviation, which quantifies the spread or variability within the data.</li>\n",
    "        <li><span style=\"color: white;\">Min:</span> The minimum observed value within the dataset.</li>\n",
    "        <li><span style=\"color: white;\">50%:</span> Refers to the median value, which denotes the middle point when the data is sorted.</li>\n",
    "        <li><span style=\"color: white;\">Max:</span> The maximum observed value within the dataset.</li>\n",
    "    </ul>\n",
    "    <p>These statistical measures can provide valuable insights into the data's distribution and help identify potential outliers.</p>\n",
    "</div>\n"
   ]
  },
  {
   "cell_type": "code",
   "execution_count": 5,
   "id": "killing-rochester",
   "metadata": {
    "id": "killing-rochester",
    "outputId": "8365fd34-e60b-49e6-bf80-54845a71a231"
   },
   "outputs": [
    {
     "data": {
      "text/html": [
       "<div>\n",
       "<style scoped>\n",
       "    .dataframe tbody tr th:only-of-type {\n",
       "        vertical-align: middle;\n",
       "    }\n",
       "\n",
       "    .dataframe tbody tr th {\n",
       "        vertical-align: top;\n",
       "    }\n",
       "\n",
       "    .dataframe thead th {\n",
       "        text-align: right;\n",
       "    }\n",
       "</style>\n",
       "<table border=\"1\" class=\"dataframe\">\n",
       "  <thead>\n",
       "    <tr style=\"text-align: right;\">\n",
       "      <th></th>\n",
       "      <th>TV</th>\n",
       "      <th>radio</th>\n",
       "      <th>newspaper</th>\n",
       "      <th>sales</th>\n",
       "    </tr>\n",
       "  </thead>\n",
       "  <tbody>\n",
       "    <tr>\n",
       "      <th>count</th>\n",
       "      <td>200.000000</td>\n",
       "      <td>200.000000</td>\n",
       "      <td>200.000000</td>\n",
       "      <td>200.000000</td>\n",
       "    </tr>\n",
       "    <tr>\n",
       "      <th>mean</th>\n",
       "      <td>147.042500</td>\n",
       "      <td>23.264000</td>\n",
       "      <td>30.554000</td>\n",
       "      <td>14.022500</td>\n",
       "    </tr>\n",
       "    <tr>\n",
       "      <th>std</th>\n",
       "      <td>85.854236</td>\n",
       "      <td>14.846809</td>\n",
       "      <td>21.778621</td>\n",
       "      <td>5.217457</td>\n",
       "    </tr>\n",
       "    <tr>\n",
       "      <th>min</th>\n",
       "      <td>0.700000</td>\n",
       "      <td>0.000000</td>\n",
       "      <td>0.300000</td>\n",
       "      <td>1.600000</td>\n",
       "    </tr>\n",
       "    <tr>\n",
       "      <th>25%</th>\n",
       "      <td>74.375000</td>\n",
       "      <td>9.975000</td>\n",
       "      <td>12.750000</td>\n",
       "      <td>10.375000</td>\n",
       "    </tr>\n",
       "    <tr>\n",
       "      <th>50%</th>\n",
       "      <td>149.750000</td>\n",
       "      <td>22.900000</td>\n",
       "      <td>25.750000</td>\n",
       "      <td>12.900000</td>\n",
       "    </tr>\n",
       "    <tr>\n",
       "      <th>75%</th>\n",
       "      <td>218.825000</td>\n",
       "      <td>36.525000</td>\n",
       "      <td>45.100000</td>\n",
       "      <td>17.400000</td>\n",
       "    </tr>\n",
       "    <tr>\n",
       "      <th>max</th>\n",
       "      <td>296.400000</td>\n",
       "      <td>49.600000</td>\n",
       "      <td>114.000000</td>\n",
       "      <td>27.000000</td>\n",
       "    </tr>\n",
       "  </tbody>\n",
       "</table>\n",
       "</div>"
      ],
      "text/plain": [
       "               TV       radio   newspaper       sales\n",
       "count  200.000000  200.000000  200.000000  200.000000\n",
       "mean   147.042500   23.264000   30.554000   14.022500\n",
       "std     85.854236   14.846809   21.778621    5.217457\n",
       "min      0.700000    0.000000    0.300000    1.600000\n",
       "25%     74.375000    9.975000   12.750000   10.375000\n",
       "50%    149.750000   22.900000   25.750000   12.900000\n",
       "75%    218.825000   36.525000   45.100000   17.400000\n",
       "max    296.400000   49.600000  114.000000   27.000000"
      ]
     },
     "execution_count": 5,
     "metadata": {},
     "output_type": "execute_result"
    }
   ],
   "source": [
    "df.describe()"
   ]
  },
  {
   "cell_type": "markdown",
   "id": "e82a676f",
   "metadata": {},
   "source": [
    "<button type=\"button\" class=\"btn btn-lg btn-danger\" data-toggle=\"popover\" title=\"Popover title\">Info</button>\n",
    "<a href=\"#toc\" class=\"btn btn-warning btn-lg active\" role=\"button\" aria-pressed=\"true\" style=\"color:black;\">Content</a>"
   ]
  },
  {
   "cell_type": "markdown",
   "id": "731ba360",
   "metadata": {},
   "source": [
    "<div style=\"background-color:#3498DB; padding:10px; border-radius: 10px; box-shadow: 2px 2px 4px rgba(0, 0, 0, 0.5);\">\n",
    "    <p style=\"font-weight: bold; color: white;\">Given that the standard deviation is smaller than the mean, it can be concluded that there are no outlier values.</p>\n",
    "</div>\n"
   ]
  },
  {
   "cell_type": "markdown",
   "id": "5c271848",
   "metadata": {},
   "source": [
    "<a id=\"4\"></a>\n",
    "# <p style=\"background-color:#3498DB; font-family:newtimeroman;color:#FFF9ED; font-size:150%; text-align:center; border-radius: 15px 50px;\"> ✨ Distribution of features ✨</p>"
   ]
  },
  {
   "cell_type": "code",
   "execution_count": 6,
   "id": "secure-interest",
   "metadata": {
    "id": "secure-interest",
    "outputId": "343df9c8-e96c-4379-a289-93cc274e1146"
   },
   "outputs": [
    {
     "data": {
      "image/png": "[encoded data removed]",
      "text/plain": [
       "<Figure size 1000x1000 with 20 Axes>"
      ]
     },
     "metadata": {},
     "output_type": "display_data"
    }
   ],
   "source": [
    "sns.pairplot(df)\n",
    "plt.show();"
   ]
  },
  {
   "cell_type": "code",
   "execution_count": 7,
   "id": "expressed-paraguay",
   "metadata": {
    "id": "expressed-paraguay",
    "outputId": "295954f3-d4aa-4def-9019-d0dd7a134dcc"
   },
   "outputs": [
    {
     "data": {
      "text/html": [
       "<div>\n",
       "<style scoped>\n",
       "    .dataframe tbody tr th:only-of-type {\n",
       "        vertical-align: middle;\n",
       "    }\n",
       "\n",
       "    .dataframe tbody tr th {\n",
       "        vertical-align: top;\n",
       "    }\n",
       "\n",
       "    .dataframe thead th {\n",
       "        text-align: right;\n",
       "    }\n",
       "</style>\n",
       "<table border=\"1\" class=\"dataframe\">\n",
       "  <thead>\n",
       "    <tr style=\"text-align: right;\">\n",
       "      <th></th>\n",
       "      <th>TV</th>\n",
       "      <th>radio</th>\n",
       "      <th>newspaper</th>\n",
       "      <th>sales</th>\n",
       "    </tr>\n",
       "  </thead>\n",
       "  <tbody>\n",
       "    <tr>\n",
       "      <th>TV</th>\n",
       "      <td>1.000000</td>\n",
       "      <td>0.054809</td>\n",
       "      <td>0.056648</td>\n",
       "      <td>0.782224</td>\n",
       "    </tr>\n",
       "    <tr>\n",
       "      <th>radio</th>\n",
       "      <td>0.054809</td>\n",
       "      <td>1.000000</td>\n",
       "      <td>0.354104</td>\n",
       "      <td>0.576223</td>\n",
       "    </tr>\n",
       "    <tr>\n",
       "      <th>newspaper</th>\n",
       "      <td>0.056648</td>\n",
       "      <td>0.354104</td>\n",
       "      <td>1.000000</td>\n",
       "      <td>0.228299</td>\n",
       "    </tr>\n",
       "    <tr>\n",
       "      <th>sales</th>\n",
       "      <td>0.782224</td>\n",
       "      <td>0.576223</td>\n",
       "      <td>0.228299</td>\n",
       "      <td>1.000000</td>\n",
       "    </tr>\n",
       "  </tbody>\n",
       "</table>\n",
       "</div>"
      ],
      "text/plain": [
       "                 TV     radio  newspaper     sales\n",
       "TV         1.000000  0.054809   0.056648  0.782224\n",
       "radio      0.054809  1.000000   0.354104  0.576223\n",
       "newspaper  0.056648  0.354104   1.000000  0.228299\n",
       "sales      0.782224  0.576223   0.228299  1.000000"
      ]
     },
     "execution_count": 7,
     "metadata": {},
     "output_type": "execute_result"
    }
   ],
   "source": [
    "df.corr()"
   ]
  },
  {
   "cell_type": "code",
   "execution_count": 8,
   "id": "widespread-celebrity",
   "metadata": {
    "id": "widespread-celebrity",
    "outputId": "9c0d050b-9222-4c29-bb87-14d95929c7cf"
   },
   "outputs": [
    {
     "data": {
      "image/png": "[encoded data removed]",
      "text/plain": [
       "<Figure size 1000x700 with 2 Axes>"
      ]
     },
     "metadata": {},
     "output_type": "display_data"
    }
   ],
   "source": [
    "sns.heatmap(df.corr(), annot=True, cmap='coolwarm', vmin=-1, vmax=1)\n",
    "plt.show();"
   ]
  },
  {
   "cell_type": "markdown",
   "id": "33292bf9",
   "metadata": {},
   "source": [
    "<button type=\"button\" class=\"btn btn-lg btn-danger\" data-toggle=\"popover\" title=\"Popover title\">Info</button>\n",
    "<a href=\"#toc\" class=\"btn btn-warning btn-lg active\" role=\"button\" aria-pressed=\"true\" style=\"color:black;\">Content</a>"
   ]
  },
  {
   "cell_type": "markdown",
   "id": "09eaf952",
   "metadata": {},
   "source": [
    "<div style=\"background-color:#3498DB; padding:10px; border-radius: 10px; box-shadow: 2px 2px 4px rgba(0, 0, 0, 0.5);\">\n",
    "    <p style=\"font-weight: bold; color: white;\">It is observed that the strongest relationship exists with the 'TV' feature, while the weakest relationship is associated with 'newspaper' in terms of the target feature, 'sales'.</p>\n",
    "</div>\n"
   ]
  },
  {
   "cell_type": "markdown",
   "id": "c3aab532",
   "metadata": {},
   "source": [
    "<a id=\"5\"></a>\n",
    "# <p style=\"background-color:#3498DB; font-family:newtimeroman;color:#FFF9ED; font-size:150%; text-align:center; border-radius: 15px 50px;\"> ✨ Train-Test Split ✨</p>"
   ]
  },
  {
   "cell_type": "code",
   "execution_count": 9,
   "id": "fancy-designer",
   "metadata": {
    "id": "fancy-designer"
   },
   "outputs": [],
   "source": [
    "# If you're not using anaconda:\n",
    "# pip install scikit-learn\n",
    "# conda install scikit-learn"
   ]
  },
  {
   "cell_type": "code",
   "execution_count": 10,
   "id": "physical-shopping",
   "metadata": {
    "id": "physical-shopping"
   },
   "outputs": [],
   "source": [
    "X = df.drop(columns=\"sales\")  # df[[\"TV\", \"radio\", \"newspaper\"]]\n",
    "y = df[\"sales\"]"
   ]
  },
  {
   "cell_type": "code",
   "execution_count": 11,
   "id": "capable-chinese",
   "metadata": {
    "id": "capable-chinese"
   },
   "outputs": [],
   "source": [
    "from sklearn.model_selection import train_test_split\n",
    "\n",
    "# We will use this function to split the data into train/test"
   ]
  },
  {
   "cell_type": "code",
   "execution_count": 12,
   "id": "controlled-education",
   "metadata": {
    "id": "controlled-education"
   },
   "outputs": [],
   "source": [
    "X_train, X_test, y_train, y_test = train_test_split(X, y, test_size=0.2, random_state=42)\n",
    "\n",
    "# Default test_size is 0.25. The idea here is to get as many data points in the train set as possible without hurting the\n",
    "# testing of the model. The choice is somewhat arbitrary."
   ]
  },
  {
   "cell_type": "markdown",
   "id": "f1fc5876",
   "metadata": {},
   "source": [
    "<button type=\"button\" class=\"btn btn-lg btn-danger\" data-toggle=\"popover\" title=\"Popover title\">Info</button>\n",
    "<a href=\"#toc\" class=\"btn btn-warning btn-lg active\" role=\"button\" aria-pressed=\"true\" style=\"color:black;\">Content</a>"
   ]
  },
  {
   "cell_type": "markdown",
   "id": "9ecd4901",
   "metadata": {},
   "source": [
    "<div style=\"background-color:#3498DB; padding:10px; border-radius: 10px; box-shadow: 2px 2px 4px rgba(0, 0, 0, 0.5);\">\n",
    "    <p style=\"font-weight: bold; color: white;\">The term \"shuffle\" means randomizing the data. When data is taken without shuffling, specific values of 'sales' go to the training set, and the remaining portion goes to the test set. Shuffling provides randomness. It's important to note that in time series data, shuffling is generally not advisable.</p>\n",
    "</div>\n"
   ]
  },
  {
   "cell_type": "markdown",
   "id": "c535c47a",
   "metadata": {},
   "source": [
    "<div style=\"background-color:#3498DB; padding:10px; border-radius: 10px; box-shadow: 2px 2px 4px rgba(0, 0, 0, 0.5);\">\n",
    "    <p style=\"font-weight: bold; color: white;\">When you want to try multiple models on the same dataset and compare their scores, it is crucial to ensure that the indices assigned to the training and test data are consistent by specifying the 'random state.' This is necessary for a fair comparison, as changing the data used for training will yield different test results each time. Only when the same data is used for both training and testing with the same 'random state' can your comparisons be meaningful.</p>\n",
    "</div>\n"
   ]
  },
  {
   "cell_type": "code",
   "execution_count": 13,
   "id": "corrected-battle",
   "metadata": {
    "id": "corrected-battle",
    "outputId": "29e5792f-aa0c-4107-ac75-4b95f1b69153"
   },
   "outputs": [
    {
     "data": {
      "text/html": [
       "<div>\n",
       "<style scoped>\n",
       "    .dataframe tbody tr th:only-of-type {\n",
       "        vertical-align: middle;\n",
       "    }\n",
       "\n",
       "    .dataframe tbody tr th {\n",
       "        vertical-align: top;\n",
       "    }\n",
       "\n",
       "    .dataframe thead th {\n",
       "        text-align: right;\n",
       "    }\n",
       "</style>\n",
       "<table border=\"1\" class=\"dataframe\">\n",
       "  <thead>\n",
       "    <tr style=\"text-align: right;\">\n",
       "      <th></th>\n",
       "      <th>TV</th>\n",
       "      <th>radio</th>\n",
       "      <th>newspaper</th>\n",
       "      <th>sales</th>\n",
       "    </tr>\n",
       "  </thead>\n",
       "  <tbody>\n",
       "    <tr>\n",
       "      <th>52</th>\n",
       "      <td>216.4</td>\n",
       "      <td>41.7</td>\n",
       "      <td>39.6</td>\n",
       "      <td>22.6</td>\n",
       "    </tr>\n",
       "    <tr>\n",
       "      <th>67</th>\n",
       "      <td>139.3</td>\n",
       "      <td>14.5</td>\n",
       "      <td>10.2</td>\n",
       "      <td>13.4</td>\n",
       "    </tr>\n",
       "    <tr>\n",
       "      <th>12</th>\n",
       "      <td>23.8</td>\n",
       "      <td>35.1</td>\n",
       "      <td>65.9</td>\n",
       "      <td>9.2</td>\n",
       "    </tr>\n",
       "    <tr>\n",
       "      <th>128</th>\n",
       "      <td>220.3</td>\n",
       "      <td>49.0</td>\n",
       "      <td>3.2</td>\n",
       "      <td>24.7</td>\n",
       "    </tr>\n",
       "    <tr>\n",
       "      <th>140</th>\n",
       "      <td>73.4</td>\n",
       "      <td>17.0</td>\n",
       "      <td>12.9</td>\n",
       "      <td>10.9</td>\n",
       "    </tr>\n",
       "    <tr>\n",
       "      <th>84</th>\n",
       "      <td>213.5</td>\n",
       "      <td>43.0</td>\n",
       "      <td>33.8</td>\n",
       "      <td>21.7</td>\n",
       "    </tr>\n",
       "    <tr>\n",
       "      <th>20</th>\n",
       "      <td>218.4</td>\n",
       "      <td>27.7</td>\n",
       "      <td>53.4</td>\n",
       "      <td>18.0</td>\n",
       "    </tr>\n",
       "    <tr>\n",
       "      <th>117</th>\n",
       "      <td>76.4</td>\n",
       "      <td>0.8</td>\n",
       "      <td>14.8</td>\n",
       "      <td>9.4</td>\n",
       "    </tr>\n",
       "    <tr>\n",
       "      <th>167</th>\n",
       "      <td>206.8</td>\n",
       "      <td>5.2</td>\n",
       "      <td>19.4</td>\n",
       "      <td>12.2</td>\n",
       "    </tr>\n",
       "    <tr>\n",
       "      <th>139</th>\n",
       "      <td>184.9</td>\n",
       "      <td>43.9</td>\n",
       "      <td>1.7</td>\n",
       "      <td>20.7</td>\n",
       "    </tr>\n",
       "    <tr>\n",
       "      <th>27</th>\n",
       "      <td>240.1</td>\n",
       "      <td>16.7</td>\n",
       "      <td>22.9</td>\n",
       "      <td>15.9</td>\n",
       "    </tr>\n",
       "    <tr>\n",
       "      <th>163</th>\n",
       "      <td>163.5</td>\n",
       "      <td>36.8</td>\n",
       "      <td>7.4</td>\n",
       "      <td>18.0</td>\n",
       "    </tr>\n",
       "    <tr>\n",
       "      <th>105</th>\n",
       "      <td>137.9</td>\n",
       "      <td>46.4</td>\n",
       "      <td>59.0</td>\n",
       "      <td>19.2</td>\n",
       "    </tr>\n",
       "    <tr>\n",
       "      <th>10</th>\n",
       "      <td>66.1</td>\n",
       "      <td>5.8</td>\n",
       "      <td>24.2</td>\n",
       "      <td>8.6</td>\n",
       "    </tr>\n",
       "    <tr>\n",
       "      <th>174</th>\n",
       "      <td>222.4</td>\n",
       "      <td>3.4</td>\n",
       "      <td>13.1</td>\n",
       "      <td>11.5</td>\n",
       "    </tr>\n",
       "  </tbody>\n",
       "</table>\n",
       "</div>"
      ],
      "text/plain": [
       "        TV  radio  newspaper  sales\n",
       "52   216.4   41.7       39.6   22.6\n",
       "67   139.3   14.5       10.2   13.4\n",
       "12    23.8   35.1       65.9    9.2\n",
       "128  220.3   49.0        3.2   24.7\n",
       "140   73.4   17.0       12.9   10.9\n",
       "84   213.5   43.0       33.8   21.7\n",
       "20   218.4   27.7       53.4   18.0\n",
       "117   76.4    0.8       14.8    9.4\n",
       "167  206.8    5.2       19.4   12.2\n",
       "139  184.9   43.9        1.7   20.7\n",
       "27   240.1   16.7       22.9   15.9\n",
       "163  163.5   36.8        7.4   18.0\n",
       "105  137.9   46.4       59.0   19.2\n",
       "10    66.1    5.8       24.2    8.6\n",
       "174  222.4    3.4       13.1   11.5"
      ]
     },
     "execution_count": 13,
     "metadata": {},
     "output_type": "execute_result"
    }
   ],
   "source": [
    "df.sample(15)"
   ]
  },
  {
   "cell_type": "code",
   "execution_count": 14,
   "id": "dressed-contamination",
   "metadata": {
    "id": "dressed-contamination",
    "outputId": "cdfce619-9e06-48a9-be19-d90578a87234"
   },
   "outputs": [
    {
     "name": "stdout",
     "output_type": "stream",
     "text": [
      "Train features shape :  (160, 3)\n",
      "Train target shape   :  (160,)\n",
      "Test features shape  :  (40, 3)\n",
      "Test target shape    :  (40,)\n"
     ]
    }
   ],
   "source": [
    "print(\"Train features shape : \", X_train.shape)\n",
    "print(\"Train target shape   : \", y_train.shape)\n",
    "print(\"Test features shape  : \", X_test.shape)\n",
    "print(\"Test target shape    : \", y_test.shape)"
   ]
  },
  {
   "cell_type": "code",
   "execution_count": 15,
   "id": "hungarian-confirmation",
   "metadata": {
    "id": "hungarian-confirmation",
    "outputId": "56092c93-d96e-40d9-e9c0-a0f7d9af9fa6"
   },
   "outputs": [
    {
     "data": {
      "text/html": [
       "<div>\n",
       "<style scoped>\n",
       "    .dataframe tbody tr th:only-of-type {\n",
       "        vertical-align: middle;\n",
       "    }\n",
       "\n",
       "    .dataframe tbody tr th {\n",
       "        vertical-align: top;\n",
       "    }\n",
       "\n",
       "    .dataframe thead th {\n",
       "        text-align: right;\n",
       "    }\n",
       "</style>\n",
       "<table border=\"1\" class=\"dataframe\">\n",
       "  <thead>\n",
       "    <tr style=\"text-align: right;\">\n",
       "      <th></th>\n",
       "      <th>TV</th>\n",
       "      <th>radio</th>\n",
       "      <th>newspaper</th>\n",
       "    </tr>\n",
       "  </thead>\n",
       "  <tbody>\n",
       "    <tr>\n",
       "      <th>79</th>\n",
       "      <td>116.0</td>\n",
       "      <td>7.7</td>\n",
       "      <td>23.1</td>\n",
       "    </tr>\n",
       "    <tr>\n",
       "      <th>197</th>\n",
       "      <td>177.0</td>\n",
       "      <td>9.3</td>\n",
       "      <td>6.4</td>\n",
       "    </tr>\n",
       "    <tr>\n",
       "      <th>38</th>\n",
       "      <td>43.1</td>\n",
       "      <td>26.7</td>\n",
       "      <td>35.1</td>\n",
       "    </tr>\n",
       "    <tr>\n",
       "      <th>24</th>\n",
       "      <td>62.3</td>\n",
       "      <td>12.6</td>\n",
       "      <td>18.3</td>\n",
       "    </tr>\n",
       "    <tr>\n",
       "      <th>122</th>\n",
       "      <td>224.0</td>\n",
       "      <td>2.4</td>\n",
       "      <td>15.6</td>\n",
       "    </tr>\n",
       "    <tr>\n",
       "      <th>...</th>\n",
       "      <td>...</td>\n",
       "      <td>...</td>\n",
       "      <td>...</td>\n",
       "    </tr>\n",
       "    <tr>\n",
       "      <th>106</th>\n",
       "      <td>25.0</td>\n",
       "      <td>11.0</td>\n",
       "      <td>29.7</td>\n",
       "    </tr>\n",
       "    <tr>\n",
       "      <th>14</th>\n",
       "      <td>204.1</td>\n",
       "      <td>32.9</td>\n",
       "      <td>46.0</td>\n",
       "    </tr>\n",
       "    <tr>\n",
       "      <th>92</th>\n",
       "      <td>217.7</td>\n",
       "      <td>33.5</td>\n",
       "      <td>59.0</td>\n",
       "    </tr>\n",
       "    <tr>\n",
       "      <th>179</th>\n",
       "      <td>165.6</td>\n",
       "      <td>10.0</td>\n",
       "      <td>17.6</td>\n",
       "    </tr>\n",
       "    <tr>\n",
       "      <th>102</th>\n",
       "      <td>280.2</td>\n",
       "      <td>10.1</td>\n",
       "      <td>21.4</td>\n",
       "    </tr>\n",
       "  </tbody>\n",
       "</table>\n",
       "<p>160 rows × 3 columns</p>\n",
       "</div>"
      ],
      "text/plain": [
       "        TV  radio  newspaper\n",
       "79   116.0    7.7       23.1\n",
       "197  177.0    9.3        6.4\n",
       "38    43.1   26.7       35.1\n",
       "24    62.3   12.6       18.3\n",
       "122  224.0    2.4       15.6\n",
       "..     ...    ...        ...\n",
       "106   25.0   11.0       29.7\n",
       "14   204.1   32.9       46.0\n",
       "92   217.7   33.5       59.0\n",
       "179  165.6   10.0       17.6\n",
       "102  280.2   10.1       21.4\n",
       "\n",
       "[160 rows x 3 columns]"
      ]
     },
     "execution_count": 15,
     "metadata": {},
     "output_type": "execute_result"
    }
   ],
   "source": [
    "X_train"
   ]
  },
  {
   "cell_type": "code",
   "execution_count": 16,
   "id": "frozen-improvement",
   "metadata": {
    "id": "frozen-improvement",
    "outputId": "df977438-feb3-4c55-923e-6e8cb3dbdb15"
   },
   "outputs": [
    {
     "data": {
      "text/html": [
       "<div>\n",
       "<style scoped>\n",
       "    .dataframe tbody tr th:only-of-type {\n",
       "        vertical-align: middle;\n",
       "    }\n",
       "\n",
       "    .dataframe tbody tr th {\n",
       "        vertical-align: top;\n",
       "    }\n",
       "\n",
       "    .dataframe thead th {\n",
       "        text-align: right;\n",
       "    }\n",
       "</style>\n",
       "<table border=\"1\" class=\"dataframe\">\n",
       "  <thead>\n",
       "    <tr style=\"text-align: right;\">\n",
       "      <th></th>\n",
       "      <th>TV</th>\n",
       "      <th>radio</th>\n",
       "      <th>newspaper</th>\n",
       "    </tr>\n",
       "  </thead>\n",
       "  <tbody>\n",
       "    <tr>\n",
       "      <th>95</th>\n",
       "      <td>163.3</td>\n",
       "      <td>31.6</td>\n",
       "      <td>52.9</td>\n",
       "    </tr>\n",
       "    <tr>\n",
       "      <th>15</th>\n",
       "      <td>195.4</td>\n",
       "      <td>47.7</td>\n",
       "      <td>52.9</td>\n",
       "    </tr>\n",
       "    <tr>\n",
       "      <th>30</th>\n",
       "      <td>292.9</td>\n",
       "      <td>28.3</td>\n",
       "      <td>43.2</td>\n",
       "    </tr>\n",
       "    <tr>\n",
       "      <th>158</th>\n",
       "      <td>11.7</td>\n",
       "      <td>36.9</td>\n",
       "      <td>45.2</td>\n",
       "    </tr>\n",
       "    <tr>\n",
       "      <th>128</th>\n",
       "      <td>220.3</td>\n",
       "      <td>49.0</td>\n",
       "      <td>3.2</td>\n",
       "    </tr>\n",
       "    <tr>\n",
       "      <th>115</th>\n",
       "      <td>75.1</td>\n",
       "      <td>35.0</td>\n",
       "      <td>52.7</td>\n",
       "    </tr>\n",
       "    <tr>\n",
       "      <th>69</th>\n",
       "      <td>216.8</td>\n",
       "      <td>43.9</td>\n",
       "      <td>27.2</td>\n",
       "    </tr>\n",
       "    <tr>\n",
       "      <th>170</th>\n",
       "      <td>50.0</td>\n",
       "      <td>11.6</td>\n",
       "      <td>18.4</td>\n",
       "    </tr>\n",
       "    <tr>\n",
       "      <th>174</th>\n",
       "      <td>222.4</td>\n",
       "      <td>3.4</td>\n",
       "      <td>13.1</td>\n",
       "    </tr>\n",
       "    <tr>\n",
       "      <th>45</th>\n",
       "      <td>175.1</td>\n",
       "      <td>22.5</td>\n",
       "      <td>31.5</td>\n",
       "    </tr>\n",
       "    <tr>\n",
       "      <th>66</th>\n",
       "      <td>31.5</td>\n",
       "      <td>24.6</td>\n",
       "      <td>2.2</td>\n",
       "    </tr>\n",
       "    <tr>\n",
       "      <th>182</th>\n",
       "      <td>56.2</td>\n",
       "      <td>5.7</td>\n",
       "      <td>29.7</td>\n",
       "    </tr>\n",
       "    <tr>\n",
       "      <th>165</th>\n",
       "      <td>234.5</td>\n",
       "      <td>3.4</td>\n",
       "      <td>84.8</td>\n",
       "    </tr>\n",
       "    <tr>\n",
       "      <th>78</th>\n",
       "      <td>5.4</td>\n",
       "      <td>29.9</td>\n",
       "      <td>9.4</td>\n",
       "    </tr>\n",
       "    <tr>\n",
       "      <th>186</th>\n",
       "      <td>139.5</td>\n",
       "      <td>2.1</td>\n",
       "      <td>26.6</td>\n",
       "    </tr>\n",
       "    <tr>\n",
       "      <th>177</th>\n",
       "      <td>170.2</td>\n",
       "      <td>7.8</td>\n",
       "      <td>35.2</td>\n",
       "    </tr>\n",
       "    <tr>\n",
       "      <th>56</th>\n",
       "      <td>7.3</td>\n",
       "      <td>28.1</td>\n",
       "      <td>41.4</td>\n",
       "    </tr>\n",
       "    <tr>\n",
       "      <th>152</th>\n",
       "      <td>197.6</td>\n",
       "      <td>23.3</td>\n",
       "      <td>14.2</td>\n",
       "    </tr>\n",
       "    <tr>\n",
       "      <th>82</th>\n",
       "      <td>75.3</td>\n",
       "      <td>20.3</td>\n",
       "      <td>32.5</td>\n",
       "    </tr>\n",
       "    <tr>\n",
       "      <th>68</th>\n",
       "      <td>237.4</td>\n",
       "      <td>27.5</td>\n",
       "      <td>11.0</td>\n",
       "    </tr>\n",
       "    <tr>\n",
       "      <th>124</th>\n",
       "      <td>229.5</td>\n",
       "      <td>32.3</td>\n",
       "      <td>74.2</td>\n",
       "    </tr>\n",
       "    <tr>\n",
       "      <th>16</th>\n",
       "      <td>67.8</td>\n",
       "      <td>36.6</td>\n",
       "      <td>114.0</td>\n",
       "    </tr>\n",
       "    <tr>\n",
       "      <th>148</th>\n",
       "      <td>38.0</td>\n",
       "      <td>40.3</td>\n",
       "      <td>11.9</td>\n",
       "    </tr>\n",
       "    <tr>\n",
       "      <th>93</th>\n",
       "      <td>250.9</td>\n",
       "      <td>36.5</td>\n",
       "      <td>72.3</td>\n",
       "    </tr>\n",
       "    <tr>\n",
       "      <th>65</th>\n",
       "      <td>69.0</td>\n",
       "      <td>9.3</td>\n",
       "      <td>0.9</td>\n",
       "    </tr>\n",
       "    <tr>\n",
       "      <th>60</th>\n",
       "      <td>53.5</td>\n",
       "      <td>2.0</td>\n",
       "      <td>21.4</td>\n",
       "    </tr>\n",
       "    <tr>\n",
       "      <th>84</th>\n",
       "      <td>213.5</td>\n",
       "      <td>43.0</td>\n",
       "      <td>33.8</td>\n",
       "    </tr>\n",
       "    <tr>\n",
       "      <th>67</th>\n",
       "      <td>139.3</td>\n",
       "      <td>14.5</td>\n",
       "      <td>10.2</td>\n",
       "    </tr>\n",
       "    <tr>\n",
       "      <th>125</th>\n",
       "      <td>87.2</td>\n",
       "      <td>11.8</td>\n",
       "      <td>25.9</td>\n",
       "    </tr>\n",
       "    <tr>\n",
       "      <th>132</th>\n",
       "      <td>8.4</td>\n",
       "      <td>27.2</td>\n",
       "      <td>2.1</td>\n",
       "    </tr>\n",
       "    <tr>\n",
       "      <th>9</th>\n",
       "      <td>199.8</td>\n",
       "      <td>2.6</td>\n",
       "      <td>21.2</td>\n",
       "    </tr>\n",
       "    <tr>\n",
       "      <th>18</th>\n",
       "      <td>69.2</td>\n",
       "      <td>20.5</td>\n",
       "      <td>18.3</td>\n",
       "    </tr>\n",
       "    <tr>\n",
       "      <th>55</th>\n",
       "      <td>198.9</td>\n",
       "      <td>49.4</td>\n",
       "      <td>60.0</td>\n",
       "    </tr>\n",
       "    <tr>\n",
       "      <th>75</th>\n",
       "      <td>16.9</td>\n",
       "      <td>43.7</td>\n",
       "      <td>89.4</td>\n",
       "    </tr>\n",
       "    <tr>\n",
       "      <th>150</th>\n",
       "      <td>280.7</td>\n",
       "      <td>13.9</td>\n",
       "      <td>37.0</td>\n",
       "    </tr>\n",
       "    <tr>\n",
       "      <th>104</th>\n",
       "      <td>238.2</td>\n",
       "      <td>34.3</td>\n",
       "      <td>5.3</td>\n",
       "    </tr>\n",
       "    <tr>\n",
       "      <th>135</th>\n",
       "      <td>48.3</td>\n",
       "      <td>47.0</td>\n",
       "      <td>8.5</td>\n",
       "    </tr>\n",
       "    <tr>\n",
       "      <th>137</th>\n",
       "      <td>273.7</td>\n",
       "      <td>28.9</td>\n",
       "      <td>59.7</td>\n",
       "    </tr>\n",
       "    <tr>\n",
       "      <th>164</th>\n",
       "      <td>117.2</td>\n",
       "      <td>14.7</td>\n",
       "      <td>5.4</td>\n",
       "    </tr>\n",
       "    <tr>\n",
       "      <th>76</th>\n",
       "      <td>27.5</td>\n",
       "      <td>1.6</td>\n",
       "      <td>20.7</td>\n",
       "    </tr>\n",
       "  </tbody>\n",
       "</table>\n",
       "</div>"
      ],
      "text/plain": [
       "        TV  radio  newspaper\n",
       "95   163.3   31.6       52.9\n",
       "15   195.4   47.7       52.9\n",
       "30   292.9   28.3       43.2\n",
       "158   11.7   36.9       45.2\n",
       "128  220.3   49.0        3.2\n",
       "115   75.1   35.0       52.7\n",
       "69   216.8   43.9       27.2\n",
       "170   50.0   11.6       18.4\n",
       "174  222.4    3.4       13.1\n",
       "45   175.1   22.5       31.5\n",
       "66    31.5   24.6        2.2\n",
       "182   56.2    5.7       29.7\n",
       "165  234.5    3.4       84.8\n",
       "78     5.4   29.9        9.4\n",
       "186  139.5    2.1       26.6\n",
       "177  170.2    7.8       35.2\n",
       "56     7.3   28.1       41.4\n",
       "152  197.6   23.3       14.2\n",
       "82    75.3   20.3       32.5\n",
       "68   237.4   27.5       11.0\n",
       "124  229.5   32.3       74.2\n",
       "16    67.8   36.6      114.0\n",
       "148   38.0   40.3       11.9\n",
       "93   250.9   36.5       72.3\n",
       "65    69.0    9.3        0.9\n",
       "60    53.5    2.0       21.4\n",
       "84   213.5   43.0       33.8\n",
       "67   139.3   14.5       10.2\n",
       "125   87.2   11.8       25.9\n",
       "132    8.4   27.2        2.1\n",
       "9    199.8    2.6       21.2\n",
       "18    69.2   20.5       18.3\n",
       "55   198.9   49.4       60.0\n",
       "75    16.9   43.7       89.4\n",
       "150  280.7   13.9       37.0\n",
       "104  238.2   34.3        5.3\n",
       "135   48.3   47.0        8.5\n",
       "137  273.7   28.9       59.7\n",
       "164  117.2   14.7        5.4\n",
       "76    27.5    1.6       20.7"
      ]
     },
     "execution_count": 16,
     "metadata": {},
     "output_type": "execute_result"
    }
   ],
   "source": [
    "X_test"
   ]
  },
  {
   "cell_type": "code",
   "execution_count": 17,
   "id": "piano-daisy",
   "metadata": {
    "id": "piano-daisy",
    "outputId": "2ae78c25-acb7-45ef-a33b-fc97a57cb79d"
   },
   "outputs": [
    {
     "data": {
      "text/plain": [
       "79     11.0\n",
       "197    12.8\n",
       "38     10.1\n",
       "24      9.7\n",
       "122    11.6\n",
       "       ... \n",
       "106     7.2\n",
       "14     19.0\n",
       "92     19.4\n",
       "179    12.6\n",
       "102    14.8\n",
       "Name: sales, Length: 160, dtype: float64"
      ]
     },
     "execution_count": 17,
     "metadata": {},
     "output_type": "execute_result"
    }
   ],
   "source": [
    "y_train"
   ]
  },
  {
   "cell_type": "code",
   "execution_count": 18,
   "id": "604ff173",
   "metadata": {
    "id": "604ff173",
    "outputId": "4d7a3880-dc40-4290-9fde-9386a762491f"
   },
   "outputs": [
    {
     "data": {
      "text/plain": [
       "95     16.9\n",
       "15     22.4\n",
       "30     21.4\n",
       "158     7.3\n",
       "128    24.7\n",
       "115    12.6\n",
       "69     22.3\n",
       "170     8.4\n",
       "174    11.5\n",
       "45     14.9\n",
       "66      9.5\n",
       "182     8.7\n",
       "165    11.9\n",
       "78      5.3\n",
       "186    10.3\n",
       "177    11.7\n",
       "56      5.5\n",
       "152    16.6\n",
       "82     11.3\n",
       "68     18.9\n",
       "124    19.7\n",
       "16     12.5\n",
       "148    10.9\n",
       "93     22.2\n",
       "65      9.3\n",
       "60      8.1\n",
       "84     21.7\n",
       "67     13.4\n",
       "125    10.6\n",
       "132     5.7\n",
       "9      10.6\n",
       "18     11.3\n",
       "55     23.7\n",
       "75      8.7\n",
       "150    16.1\n",
       "104    20.7\n",
       "135    11.6\n",
       "137    20.8\n",
       "164    11.9\n",
       "76      6.9\n",
       "Name: sales, dtype: float64"
      ]
     },
     "execution_count": 18,
     "metadata": {},
     "output_type": "execute_result"
    }
   ],
   "source": [
    "y_test"
   ]
  },
  {
   "cell_type": "markdown",
   "id": "01c65427",
   "metadata": {},
   "source": [
    "<a id=\"6\"></a>\n",
    "# <p style=\"background-color:#3498DB; font-family:newtimeroman;color:#FFF9ED; font-size:150%; text-align:center; border-radius: 15px 50px;\"> ✨ Model Fitting and Compare Actual and Predicted Labels ✨</p>"
   ]
  },
  {
   "cell_type": "markdown",
   "id": "278a6836",
   "metadata": {},
   "source": [
    "<a href=\"#toc\" class=\"btn btn-warning btn-lg active\" role=\"button\" aria-pressed=\"true\" style=\"color:black;\">Content</a>"
   ]
  },
  {
   "cell_type": "code",
   "execution_count": 19,
   "id": "thick-institution",
   "metadata": {
    "id": "thick-institution"
   },
   "outputs": [],
   "source": [
    "from sklearn.linear_model import LinearRegression\n",
    "\n",
    "# Import LinearRegression class from scikit-learn"
   ]
  },
  {
   "cell_type": "code",
   "execution_count": 20,
   "id": "working-drink",
   "metadata": {
    "id": "working-drink"
   },
   "outputs": [],
   "source": [
    "model = LinearRegression()\n",
    "\n",
    "# Instantiate the class"
   ]
  },
  {
   "cell_type": "code",
   "execution_count": 21,
   "id": "answering-right",
   "metadata": {
    "id": "answering-right",
    "outputId": "81a86e9c-32de-4753-ce0c-26fd4575baac"
   },
   "outputs": [
    {
     "data": {
      "text/html": [
       "<style>#sk-container-id-1 {color: black;background-color: white;}#sk-container-id-1 pre{padding: 0;}#sk-container-id-1 div.sk-toggleable {background-color: white;}#sk-container-id-1 label.sk-toggleable__label {cursor: pointer;display: block;width: 100%;margin-bottom: 0;padding: 0.3em;box-sizing: border-box;text-align: center;}#sk-container-id-1 label.sk-toggleable__label-arrow:before {content: \"▸\";float: left;margin-right: 0.25em;color: #696969;}#sk-container-id-1 label.sk-toggleable__label-arrow:hover:before {color: black;}#sk-container-id-1 div.sk-estimator:hover label.sk-toggleable__label-arrow:before {color: black;}#sk-container-id-1 div.sk-toggleable__content {max-height: 0;max-width: 0;overflow: hidden;text-align: left;background-color: #f0f8ff;}#sk-container-id-1 div.sk-toggleable__content pre {margin: 0.2em;color: black;border-radius: 0.25em;background-color: #f0f8ff;}#sk-container-id-1 input.sk-toggleable__control:checked~div.sk-toggleable__content {max-height: 200px;max-width: 100%;overflow: auto;}#sk-container-id-1 input.sk-toggleable__control:checked~label.sk-toggleable__label-arrow:before {content: \"▾\";}#sk-container-id-1 div.sk-estimator input.sk-toggleable__control:checked~label.sk-toggleable__label {background-color: #d4ebff;}#sk-container-id-1 div.sk-label input.sk-toggleable__control:checked~label.sk-toggleable__label {background-color: #d4ebff;}#sk-container-id-1 input.sk-hidden--visually {border: 0;clip: rect(1px 1px 1px 1px);clip: rect(1px, 1px, 1px, 1px);height: 1px;margin: -1px;overflow: hidden;padding: 0;position: absolute;width: 1px;}#sk-container-id-1 div.sk-estimator {font-family: monospace;background-color: #f0f8ff;border: 1px dotted black;border-radius: 0.25em;box-sizing: border-box;margin-bottom: 0.5em;}#sk-container-id-1 div.sk-estimator:hover {background-color: #d4ebff;}#sk-container-id-1 div.sk-parallel-item::after {content: \"\";width: 100%;border-bottom: 1px solid gray;flex-grow: 1;}#sk-container-id-1 div.sk-label:hover label.sk-toggleable__label {background-color: #d4ebff;}#sk-container-id-1 div.sk-serial::before {content: \"\";position: absolute;border-left: 1px solid gray;box-sizing: border-box;top: 0;bottom: 0;left: 50%;z-index: 0;}#sk-container-id-1 div.sk-serial {display: flex;flex-direction: column;align-items: center;background-color: white;padding-right: 0.2em;padding-left: 0.2em;position: relative;}#sk-container-id-1 div.sk-item {position: relative;z-index: 1;}#sk-container-id-1 div.sk-parallel {display: flex;align-items: stretch;justify-content: center;background-color: white;position: relative;}#sk-container-id-1 div.sk-item::before, #sk-container-id-1 div.sk-parallel-item::before {content: \"\";position: absolute;border-left: 1px solid gray;box-sizing: border-box;top: 0;bottom: 0;left: 50%;z-index: -1;}#sk-container-id-1 div.sk-parallel-item {display: flex;flex-direction: column;z-index: 1;position: relative;background-color: white;}#sk-container-id-1 div.sk-parallel-item:first-child::after {align-self: flex-end;width: 50%;}#sk-container-id-1 div.sk-parallel-item:last-child::after {align-self: flex-start;width: 50%;}#sk-container-id-1 div.sk-parallel-item:only-child::after {width: 0;}#sk-container-id-1 div.sk-dashed-wrapped {border: 1px dashed gray;margin: 0 0.4em 0.5em 0.4em;box-sizing: border-box;padding-bottom: 0.4em;background-color: white;}#sk-container-id-1 div.sk-label label {font-family: monospace;font-weight: bold;display: inline-block;line-height: 1.2em;}#sk-container-id-1 div.sk-label-container {text-align: center;}#sk-container-id-1 div.sk-container {/* jupyter's `normalize.less` sets `[hidden] { display: none; }` but bootstrap.min.css set `[hidden] { display: none !important; }` so we also need the `!important` here to be able to override the default hidden behavior on the sphinx rendered scikit-learn.org. See: https://github.com/scikit-learn/scikit-learn/issues/21755 */display: inline-block !important;position: relative;}#sk-container-id-1 div.sk-text-repr-fallback {display: none;}</style><div id=\"sk-container-id-1\" class=\"sk-top-container\"><div class=\"sk-text-repr-fallback\"><pre>LinearRegression()</pre><b>In a Jupyter environment, please rerun this cell to show the HTML representation or trust the notebook. <br />On GitHub, the HTML representation is unable to render, please try loading this page with nbviewer.org.</b></div><div class=\"sk-container\" hidden><div class=\"sk-item\"><div class=\"sk-estimator sk-toggleable\"><input class=\"sk-toggleable__control sk-hidden--visually\" id=\"sk-estimator-id-1\" type=\"checkbox\" checked><label for=\"sk-estimator-id-1\" class=\"sk-toggleable__label sk-toggleable__label-arrow\">LinearRegression</label><div class=\"sk-toggleable__content\"><pre>LinearRegression()</pre></div></div></div></div></div>"
      ],
      "text/plain": [
       "LinearRegression()"
      ]
     },
     "execution_count": 21,
     "metadata": {},
     "output_type": "execute_result"
    }
   ],
   "source": [
    "model.fit(X_train, y_train)\n",
    "\n",
    "# our `model` is an object of the `LinearRegression` class. We can now access its methods.\n",
    "# The `fit` method, in scikit-learn, is always used to learn some parameters about the data."
   ]
  },
  {
   "cell_type": "code",
   "execution_count": 22,
   "id": "3632af9a",
   "metadata": {
    "id": "3632af9a",
    "outputId": "10ec3dd2-54bd-435d-92a6-4f0eda48b9d0"
   },
   "outputs": [
    {
     "data": {
      "text/plain": [
       "array([16.4080242 , 20.88988209, 21.55384318, 10.60850256, 22.11237326,\n",
       "       13.10559172, 21.05719192,  7.46101034, 13.60634581, 15.15506967,\n",
       "        9.04831992,  6.65328312, 14.34554487,  8.90349333,  9.68959028,\n",
       "       12.16494386,  8.73628397, 16.26507258, 10.27759582, 18.83109103,\n",
       "       19.56036653, 13.25103464, 12.33620695, 21.30695132,  7.82740305,\n",
       "        5.80957448, 20.75753231, 11.98138077,  9.18349576,  8.5066991 ,\n",
       "       12.46646769, 10.00337695, 21.3876709 , 12.24966368, 18.26661538,\n",
       "       20.13766267, 14.05514005, 20.85411186, 11.0174441 ,  4.56899622])"
      ]
     },
     "execution_count": 22,
     "metadata": {},
     "output_type": "execute_result"
    }
   ],
   "source": [
    "y_pred = model.predict(X_test) # Since the `model` object is now the trained linear regression model, we can invoke the `predict`\n",
    "# method to get predictions on the test set.\n",
    "y_pred"
   ]
  },
  {
   "cell_type": "code",
   "execution_count": 23,
   "id": "500cc71d",
   "metadata": {
    "id": "500cc71d",
    "outputId": "871327e4-22d3-4790-fe49-92a6821f3e92"
   },
   "outputs": [
    {
     "data": {
      "text/html": [
       "<div>\n",
       "<style scoped>\n",
       "    .dataframe tbody tr th:only-of-type {\n",
       "        vertical-align: middle;\n",
       "    }\n",
       "\n",
       "    .dataframe tbody tr th {\n",
       "        vertical-align: top;\n",
       "    }\n",
       "\n",
       "    .dataframe thead th {\n",
       "        text-align: right;\n",
       "    }\n",
       "</style>\n",
       "<table border=\"1\" class=\"dataframe\">\n",
       "  <thead>\n",
       "    <tr style=\"text-align: right;\">\n",
       "      <th></th>\n",
       "      <th>TV</th>\n",
       "      <th>radio</th>\n",
       "      <th>newspaper</th>\n",
       "    </tr>\n",
       "  </thead>\n",
       "  <tbody>\n",
       "    <tr>\n",
       "      <th>79</th>\n",
       "      <td>116.0</td>\n",
       "      <td>7.7</td>\n",
       "      <td>23.1</td>\n",
       "    </tr>\n",
       "  </tbody>\n",
       "</table>\n",
       "</div>"
      ],
      "text/plain": [
       "       TV  radio  newspaper\n",
       "79  116.0    7.7       23.1"
      ]
     },
     "execution_count": 23,
     "metadata": {},
     "output_type": "execute_result"
    }
   ],
   "source": [
    "X_train.head(1)"
   ]
  },
  {
   "cell_type": "code",
   "execution_count": 24,
   "id": "cae09423",
   "metadata": {
    "id": "cae09423",
    "outputId": "754bbb0d-0a26-471a-a42c-6ca99e4a08da"
   },
   "outputs": [
    {
     "data": {
      "text/plain": [
       "array([0.04472952, 0.18919505, 0.00276111])"
      ]
     },
     "execution_count": 24,
     "metadata": {},
     "output_type": "execute_result"
    }
   ],
   "source": [
    "model.coef_\n",
    "\n",
    "# The coefficients listed in the `coef_` attribute is in the same order as with the features of our X_train."
   ]
  },
  {
   "cell_type": "code",
   "execution_count": 25,
   "id": "372505fb",
   "metadata": {
    "id": "372505fb",
    "outputId": "42ee823f-3b9a-4aed-c2b1-017c76e7cceb"
   },
   "outputs": [
    {
     "data": {
      "text/plain": [
       "2.979067338122629"
      ]
     },
     "execution_count": 25,
     "metadata": {},
     "output_type": "execute_result"
    }
   ],
   "source": [
    "model.intercept_"
   ]
  },
  {
   "cell_type": "code",
   "execution_count": 26,
   "id": "4165da9a",
   "metadata": {
    "id": "4165da9a",
    "outputId": "6e6910cf-0011-4910-e0d2-cf74837fdf24"
   },
   "outputs": [
    {
     "data": {
      "text/html": [
       "<div>\n",
       "<style scoped>\n",
       "    .dataframe tbody tr th:only-of-type {\n",
       "        vertical-align: middle;\n",
       "    }\n",
       "\n",
       "    .dataframe tbody tr th {\n",
       "        vertical-align: top;\n",
       "    }\n",
       "\n",
       "    .dataframe thead th {\n",
       "        text-align: right;\n",
       "    }\n",
       "</style>\n",
       "<table border=\"1\" class=\"dataframe\">\n",
       "  <thead>\n",
       "    <tr style=\"text-align: right;\">\n",
       "      <th></th>\n",
       "      <th>TV</th>\n",
       "      <th>radio</th>\n",
       "      <th>newspaper</th>\n",
       "    </tr>\n",
       "  </thead>\n",
       "  <tbody>\n",
       "    <tr>\n",
       "      <th>95</th>\n",
       "      <td>163.3</td>\n",
       "      <td>31.6</td>\n",
       "      <td>52.9</td>\n",
       "    </tr>\n",
       "  </tbody>\n",
       "</table>\n",
       "</div>"
      ],
      "text/plain": [
       "       TV  radio  newspaper\n",
       "95  163.3   31.6       52.9"
      ]
     },
     "execution_count": 26,
     "metadata": {},
     "output_type": "execute_result"
    }
   ],
   "source": [
    "X_test.loc[[95]]"
   ]
  },
  {
   "cell_type": "code",
   "execution_count": 27,
   "id": "587f042b",
   "metadata": {
    "id": "587f042b",
    "outputId": "42dbdf82-70e3-4821-f5ff-0f0c3ad823bd"
   },
   "outputs": [
    {
     "data": {
      "text/plain": [
       "16.9"
      ]
     },
     "execution_count": 27,
     "metadata": {},
     "output_type": "execute_result"
    }
   ],
   "source": [
    "y_test.loc[95]"
   ]
  },
  {
   "cell_type": "code",
   "execution_count": 28,
   "id": "5138b0c8",
   "metadata": {
    "id": "5138b0c8",
    "outputId": "b7cde882-deca-4947-f04a-862380ecd8af"
   },
   "outputs": [
    {
     "data": {
      "text/plain": [
       "array([16.4080242])"
      ]
     },
     "execution_count": 28,
     "metadata": {},
     "output_type": "execute_result"
    }
   ],
   "source": [
    "model.predict(X_test.loc[[95]])\n",
    "# ML algorithms accept 2-dimensional data, even if you have only one instance (observation point)."
   ]
  },
  {
   "cell_type": "markdown",
   "id": "4306885b",
   "metadata": {},
   "source": [
    "<h3 style=\"text-align:center;font-size:200%;\">Progress Bars</h3>\n",
    "<div class=\"progress\">\n",
    "  <div class=\"progress-bar bg-danger\" role=\"progressbar\" style=\"width: 50%;\" aria-valuenow=\"50\" aria-valuemin=\"50\" aria-valuemax=\"100\">50%</div>\n",
    "</div>\n",
    "\n"
   ]
  },
  {
   "cell_type": "code",
   "execution_count": 29,
   "id": "e57cc0fd",
   "metadata": {},
   "outputs": [
    {
     "data": {
      "text/plain": [
       "array([0.4919758])"
      ]
     },
     "execution_count": 29,
     "metadata": {},
     "output_type": "execute_result"
    }
   ],
   "source": [
    "residual_95 = y_test.loc[95] - model.predict(X_test.loc[[95]])\n",
    "residual_95"
   ]
  },
  {
   "cell_type": "code",
   "execution_count": 30,
   "id": "accompanied-contact",
   "metadata": {
    "id": "accompanied-contact"
   },
   "outputs": [],
   "source": [
    "my_dict = {\"Actual\": y_test,\n",
    "           \"Pred\": y_pred,\n",
    "           \"Residual\":y_test-y_pred,\n",
    "           \"LSE\":(y_test-y_pred)**2,\n",
    "           \"ABS\": abs(y_test-y_pred)}"
   ]
  },
  {
   "cell_type": "code",
   "execution_count": 31,
   "id": "enhanced-layer",
   "metadata": {
    "id": "enhanced-layer",
    "outputId": "7a7c6677-423f-46da-dccf-2a43eba157f4"
   },
   "outputs": [
    {
     "data": {
      "text/html": [
       "<div>\n",
       "<style scoped>\n",
       "    .dataframe tbody tr th:only-of-type {\n",
       "        vertical-align: middle;\n",
       "    }\n",
       "\n",
       "    .dataframe tbody tr th {\n",
       "        vertical-align: top;\n",
       "    }\n",
       "\n",
       "    .dataframe thead th {\n",
       "        text-align: right;\n",
       "    }\n",
       "</style>\n",
       "<table border=\"1\" class=\"dataframe\">\n",
       "  <thead>\n",
       "    <tr style=\"text-align: right;\">\n",
       "      <th></th>\n",
       "      <th>Actual</th>\n",
       "      <th>Pred</th>\n",
       "      <th>Residual</th>\n",
       "      <th>LSE</th>\n",
       "      <th>ABS</th>\n",
       "    </tr>\n",
       "  </thead>\n",
       "  <tbody>\n",
       "    <tr>\n",
       "      <th>95</th>\n",
       "      <td>16.9</td>\n",
       "      <td>16.408024</td>\n",
       "      <td>0.491976</td>\n",
       "      <td>0.242040</td>\n",
       "      <td>0.491976</td>\n",
       "    </tr>\n",
       "    <tr>\n",
       "      <th>15</th>\n",
       "      <td>22.4</td>\n",
       "      <td>20.889882</td>\n",
       "      <td>1.510118</td>\n",
       "      <td>2.280456</td>\n",
       "      <td>1.510118</td>\n",
       "    </tr>\n",
       "    <tr>\n",
       "      <th>30</th>\n",
       "      <td>21.4</td>\n",
       "      <td>21.553843</td>\n",
       "      <td>-0.153843</td>\n",
       "      <td>0.023668</td>\n",
       "      <td>0.153843</td>\n",
       "    </tr>\n",
       "    <tr>\n",
       "      <th>158</th>\n",
       "      <td>7.3</td>\n",
       "      <td>10.608503</td>\n",
       "      <td>-3.308503</td>\n",
       "      <td>10.946189</td>\n",
       "      <td>3.308503</td>\n",
       "    </tr>\n",
       "    <tr>\n",
       "      <th>128</th>\n",
       "      <td>24.7</td>\n",
       "      <td>22.112373</td>\n",
       "      <td>2.587627</td>\n",
       "      <td>6.695812</td>\n",
       "      <td>2.587627</td>\n",
       "    </tr>\n",
       "    <tr>\n",
       "      <th>115</th>\n",
       "      <td>12.6</td>\n",
       "      <td>13.105592</td>\n",
       "      <td>-0.505592</td>\n",
       "      <td>0.255623</td>\n",
       "      <td>0.505592</td>\n",
       "    </tr>\n",
       "    <tr>\n",
       "      <th>69</th>\n",
       "      <td>22.3</td>\n",
       "      <td>21.057192</td>\n",
       "      <td>1.242808</td>\n",
       "      <td>1.544572</td>\n",
       "      <td>1.242808</td>\n",
       "    </tr>\n",
       "    <tr>\n",
       "      <th>170</th>\n",
       "      <td>8.4</td>\n",
       "      <td>7.461010</td>\n",
       "      <td>0.938990</td>\n",
       "      <td>0.881702</td>\n",
       "      <td>0.938990</td>\n",
       "    </tr>\n",
       "    <tr>\n",
       "      <th>174</th>\n",
       "      <td>11.5</td>\n",
       "      <td>13.606346</td>\n",
       "      <td>-2.106346</td>\n",
       "      <td>4.436693</td>\n",
       "      <td>2.106346</td>\n",
       "    </tr>\n",
       "    <tr>\n",
       "      <th>45</th>\n",
       "      <td>14.9</td>\n",
       "      <td>15.155070</td>\n",
       "      <td>-0.255070</td>\n",
       "      <td>0.065061</td>\n",
       "      <td>0.255070</td>\n",
       "    </tr>\n",
       "    <tr>\n",
       "      <th>66</th>\n",
       "      <td>9.5</td>\n",
       "      <td>9.048320</td>\n",
       "      <td>0.451680</td>\n",
       "      <td>0.204015</td>\n",
       "      <td>0.451680</td>\n",
       "    </tr>\n",
       "    <tr>\n",
       "      <th>182</th>\n",
       "      <td>8.7</td>\n",
       "      <td>6.653283</td>\n",
       "      <td>2.046717</td>\n",
       "      <td>4.189050</td>\n",
       "      <td>2.046717</td>\n",
       "    </tr>\n",
       "    <tr>\n",
       "      <th>165</th>\n",
       "      <td>11.9</td>\n",
       "      <td>14.345545</td>\n",
       "      <td>-2.445545</td>\n",
       "      <td>5.980690</td>\n",
       "      <td>2.445545</td>\n",
       "    </tr>\n",
       "    <tr>\n",
       "      <th>78</th>\n",
       "      <td>5.3</td>\n",
       "      <td>8.903493</td>\n",
       "      <td>-3.603493</td>\n",
       "      <td>12.985164</td>\n",
       "      <td>3.603493</td>\n",
       "    </tr>\n",
       "    <tr>\n",
       "      <th>186</th>\n",
       "      <td>10.3</td>\n",
       "      <td>9.689590</td>\n",
       "      <td>0.610410</td>\n",
       "      <td>0.372600</td>\n",
       "      <td>0.610410</td>\n",
       "    </tr>\n",
       "    <tr>\n",
       "      <th>177</th>\n",
       "      <td>11.7</td>\n",
       "      <td>12.164944</td>\n",
       "      <td>-0.464944</td>\n",
       "      <td>0.216173</td>\n",
       "      <td>0.464944</td>\n",
       "    </tr>\n",
       "    <tr>\n",
       "      <th>56</th>\n",
       "      <td>5.5</td>\n",
       "      <td>8.736284</td>\n",
       "      <td>-3.236284</td>\n",
       "      <td>10.473534</td>\n",
       "      <td>3.236284</td>\n",
       "    </tr>\n",
       "    <tr>\n",
       "      <th>152</th>\n",
       "      <td>16.6</td>\n",
       "      <td>16.265073</td>\n",
       "      <td>0.334927</td>\n",
       "      <td>0.112176</td>\n",
       "      <td>0.334927</td>\n",
       "    </tr>\n",
       "    <tr>\n",
       "      <th>82</th>\n",
       "      <td>11.3</td>\n",
       "      <td>10.277596</td>\n",
       "      <td>1.022404</td>\n",
       "      <td>1.045310</td>\n",
       "      <td>1.022404</td>\n",
       "    </tr>\n",
       "    <tr>\n",
       "      <th>68</th>\n",
       "      <td>18.9</td>\n",
       "      <td>18.831091</td>\n",
       "      <td>0.068909</td>\n",
       "      <td>0.004748</td>\n",
       "      <td>0.068909</td>\n",
       "    </tr>\n",
       "    <tr>\n",
       "      <th>124</th>\n",
       "      <td>19.7</td>\n",
       "      <td>19.560367</td>\n",
       "      <td>0.139633</td>\n",
       "      <td>0.019498</td>\n",
       "      <td>0.139633</td>\n",
       "    </tr>\n",
       "    <tr>\n",
       "      <th>16</th>\n",
       "      <td>12.5</td>\n",
       "      <td>13.251035</td>\n",
       "      <td>-0.751035</td>\n",
       "      <td>0.564053</td>\n",
       "      <td>0.751035</td>\n",
       "    </tr>\n",
       "    <tr>\n",
       "      <th>148</th>\n",
       "      <td>10.9</td>\n",
       "      <td>12.336207</td>\n",
       "      <td>-1.436207</td>\n",
       "      <td>2.062690</td>\n",
       "      <td>1.436207</td>\n",
       "    </tr>\n",
       "    <tr>\n",
       "      <th>93</th>\n",
       "      <td>22.2</td>\n",
       "      <td>21.306951</td>\n",
       "      <td>0.893049</td>\n",
       "      <td>0.797536</td>\n",
       "      <td>0.893049</td>\n",
       "    </tr>\n",
       "    <tr>\n",
       "      <th>65</th>\n",
       "      <td>9.3</td>\n",
       "      <td>7.827403</td>\n",
       "      <td>1.472597</td>\n",
       "      <td>2.168542</td>\n",
       "      <td>1.472597</td>\n",
       "    </tr>\n",
       "    <tr>\n",
       "      <th>60</th>\n",
       "      <td>8.1</td>\n",
       "      <td>5.809574</td>\n",
       "      <td>2.290426</td>\n",
       "      <td>5.246049</td>\n",
       "      <td>2.290426</td>\n",
       "    </tr>\n",
       "    <tr>\n",
       "      <th>84</th>\n",
       "      <td>21.7</td>\n",
       "      <td>20.757532</td>\n",
       "      <td>0.942468</td>\n",
       "      <td>0.888245</td>\n",
       "      <td>0.942468</td>\n",
       "    </tr>\n",
       "    <tr>\n",
       "      <th>67</th>\n",
       "      <td>13.4</td>\n",
       "      <td>11.981381</td>\n",
       "      <td>1.418619</td>\n",
       "      <td>2.012481</td>\n",
       "      <td>1.418619</td>\n",
       "    </tr>\n",
       "    <tr>\n",
       "      <th>125</th>\n",
       "      <td>10.6</td>\n",
       "      <td>9.183496</td>\n",
       "      <td>1.416504</td>\n",
       "      <td>2.006484</td>\n",
       "      <td>1.416504</td>\n",
       "    </tr>\n",
       "    <tr>\n",
       "      <th>132</th>\n",
       "      <td>5.7</td>\n",
       "      <td>8.506699</td>\n",
       "      <td>-2.806699</td>\n",
       "      <td>7.877560</td>\n",
       "      <td>2.806699</td>\n",
       "    </tr>\n",
       "    <tr>\n",
       "      <th>9</th>\n",
       "      <td>10.6</td>\n",
       "      <td>12.466468</td>\n",
       "      <td>-1.866468</td>\n",
       "      <td>3.483702</td>\n",
       "      <td>1.866468</td>\n",
       "    </tr>\n",
       "    <tr>\n",
       "      <th>18</th>\n",
       "      <td>11.3</td>\n",
       "      <td>10.003377</td>\n",
       "      <td>1.296623</td>\n",
       "      <td>1.681231</td>\n",
       "      <td>1.296623</td>\n",
       "    </tr>\n",
       "    <tr>\n",
       "      <th>55</th>\n",
       "      <td>23.7</td>\n",
       "      <td>21.387671</td>\n",
       "      <td>2.312329</td>\n",
       "      <td>5.346866</td>\n",
       "      <td>2.312329</td>\n",
       "    </tr>\n",
       "    <tr>\n",
       "      <th>75</th>\n",
       "      <td>8.7</td>\n",
       "      <td>12.249664</td>\n",
       "      <td>-3.549664</td>\n",
       "      <td>12.600112</td>\n",
       "      <td>3.549664</td>\n",
       "    </tr>\n",
       "    <tr>\n",
       "      <th>150</th>\n",
       "      <td>16.1</td>\n",
       "      <td>18.266615</td>\n",
       "      <td>-2.166615</td>\n",
       "      <td>4.694222</td>\n",
       "      <td>2.166615</td>\n",
       "    </tr>\n",
       "    <tr>\n",
       "      <th>104</th>\n",
       "      <td>20.7</td>\n",
       "      <td>20.137663</td>\n",
       "      <td>0.562337</td>\n",
       "      <td>0.316223</td>\n",
       "      <td>0.562337</td>\n",
       "    </tr>\n",
       "    <tr>\n",
       "      <th>135</th>\n",
       "      <td>11.6</td>\n",
       "      <td>14.055140</td>\n",
       "      <td>-2.455140</td>\n",
       "      <td>6.027713</td>\n",
       "      <td>2.455140</td>\n",
       "    </tr>\n",
       "    <tr>\n",
       "      <th>137</th>\n",
       "      <td>20.8</td>\n",
       "      <td>20.854112</td>\n",
       "      <td>-0.054112</td>\n",
       "      <td>0.002928</td>\n",
       "      <td>0.054112</td>\n",
       "    </tr>\n",
       "    <tr>\n",
       "      <th>164</th>\n",
       "      <td>11.9</td>\n",
       "      <td>11.017444</td>\n",
       "      <td>0.882556</td>\n",
       "      <td>0.778905</td>\n",
       "      <td>0.882556</td>\n",
       "    </tr>\n",
       "    <tr>\n",
       "      <th>76</th>\n",
       "      <td>6.9</td>\n",
       "      <td>4.568996</td>\n",
       "      <td>2.331004</td>\n",
       "      <td>5.433579</td>\n",
       "      <td>2.331004</td>\n",
       "    </tr>\n",
       "  </tbody>\n",
       "</table>\n",
       "</div>"
      ],
      "text/plain": [
       "     Actual       Pred  Residual        LSE       ABS\n",
       "95     16.9  16.408024  0.491976   0.242040  0.491976\n",
       "15     22.4  20.889882  1.510118   2.280456  1.510118\n",
       "30     21.4  21.553843 -0.153843   0.023668  0.153843\n",
       "158     7.3  10.608503 -3.308503  10.946189  3.308503\n",
       "128    24.7  22.112373  2.587627   6.695812  2.587627\n",
       "115    12.6  13.105592 -0.505592   0.255623  0.505592\n",
       "69     22.3  21.057192  1.242808   1.544572  1.242808\n",
       "170     8.4   7.461010  0.938990   0.881702  0.938990\n",
       "174    11.5  13.606346 -2.106346   4.436693  2.106346\n",
       "45     14.9  15.155070 -0.255070   0.065061  0.255070\n",
       "66      9.5   9.048320  0.451680   0.204015  0.451680\n",
       "182     8.7   6.653283  2.046717   4.189050  2.046717\n",
       "165    11.9  14.345545 -2.445545   5.980690  2.445545\n",
       "78      5.3   8.903493 -3.603493  12.985164  3.603493\n",
       "186    10.3   9.689590  0.610410   0.372600  0.610410\n",
       "177    11.7  12.164944 -0.464944   0.216173  0.464944\n",
       "56      5.5   8.736284 -3.236284  10.473534  3.236284\n",
       "152    16.6  16.265073  0.334927   0.112176  0.334927\n",
       "82     11.3  10.277596  1.022404   1.045310  1.022404\n",
       "68     18.9  18.831091  0.068909   0.004748  0.068909\n",
       "124    19.7  19.560367  0.139633   0.019498  0.139633\n",
       "16     12.5  13.251035 -0.751035   0.564053  0.751035\n",
       "148    10.9  12.336207 -1.436207   2.062690  1.436207\n",
       "93     22.2  21.306951  0.893049   0.797536  0.893049\n",
       "65      9.3   7.827403  1.472597   2.168542  1.472597\n",
       "60      8.1   5.809574  2.290426   5.246049  2.290426\n",
       "84     21.7  20.757532  0.942468   0.888245  0.942468\n",
       "67     13.4  11.981381  1.418619   2.012481  1.418619\n",
       "125    10.6   9.183496  1.416504   2.006484  1.416504\n",
       "132     5.7   8.506699 -2.806699   7.877560  2.806699\n",
       "9      10.6  12.466468 -1.866468   3.483702  1.866468\n",
       "18     11.3  10.003377  1.296623   1.681231  1.296623\n",
       "55     23.7  21.387671  2.312329   5.346866  2.312329\n",
       "75      8.7  12.249664 -3.549664  12.600112  3.549664\n",
       "150    16.1  18.266615 -2.166615   4.694222  2.166615\n",
       "104    20.7  20.137663  0.562337   0.316223  0.562337\n",
       "135    11.6  14.055140 -2.455140   6.027713  2.455140\n",
       "137    20.8  20.854112 -0.054112   0.002928  0.054112\n",
       "164    11.9  11.017444  0.882556   0.778905  0.882556\n",
       "76      6.9   4.568996  2.331004   5.433579  2.331004"
      ]
     },
     "execution_count": 31,
     "metadata": {},
     "output_type": "execute_result"
    }
   ],
   "source": [
    "comparing = pd.DataFrame(my_dict)\n",
    "comparing"
   ]
  },
  {
   "cell_type": "markdown",
   "id": "206d0691",
   "metadata": {},
   "source": [
    "<button type=\"button\" class=\"btn btn-lg btn-danger\" data-toggle=\"popover\" title=\"Popover title\">Info</button>\n",
    "<a href=\"#toc\" class=\"btn btn-warning btn-lg active\" role=\"button\" aria-pressed=\"true\" style=\"color:black;\">Content</a>"
   ]
  },
  {
   "cell_type": "markdown",
   "id": "a8e41cc3",
   "metadata": {},
   "source": [
    "<div style=\"background-color:#3498DB; padding:10px; border-radius: 10px; box-shadow: 2px 2px 4px rgba(0, 0, 0, 0.5);\">\n",
    "    <p style=\"font-weight: bold; color: white;\">Residuals are individual values representing the error for each data point, while the 'cost function' aims to minimize these residuals and determine coefficients, including the intercept. The 'cost function' is a function that works to minimize the residuals.</p>\n",
    "</div>\n"
   ]
  },
  {
   "cell_type": "markdown",
   "id": "e16a652a",
   "metadata": {},
   "source": [
    "<div style=\"background-color:#3498DB; padding:10px; border-radius: 10px; box-shadow: 2px 2px 4px rgba(0, 0, 0, 0.5);\">\n",
    "    <p style=\"font-weight: bold; color: white;\">LSE (Least Squares Error) operates with gradient descent in the background, striving to reach the optimal point by adjusting gradients. On the other hand, MSE (Mean Squared Error) is a metric that penalizes even the smallest errors, magnifying them.</p>\n",
    "</div>\n"
   ]
  },
  {
   "cell_type": "markdown",
   "id": "981d6ed3",
   "metadata": {},
   "source": [
    "![lost-cost-func.png](https://stephenallwright.com/content/images/size/w1384/2022/07/loss-function-vs-cost-function-2.png)\n",
    "[Source](https://stephenallwright.com/loss-function-vs-cost-function/)"
   ]
  },
  {
   "cell_type": "markdown",
   "id": "c5f243ce",
   "metadata": {},
   "source": [
    "<button type=\"button\" class=\"btn btn-lg btn-danger\" data-toggle=\"popover\" title=\"Popover title\">Info</button>\n",
    "<a href=\"#toc\" class=\"btn btn-warning btn-lg active\" role=\"button\" aria-pressed=\"true\" style=\"color:black;\">Content</a>"
   ]
  },
  {
   "cell_type": "markdown",
   "id": "1e665ab5",
   "metadata": {},
   "source": [
    "<div style=\"background-color:#3498DB; padding:10px; border-radius: 10px; box-shadow: 2px 2px 4px rgba(0, 0, 0, 0.5);\">\n",
    "    <p style=\"font-weight: bold; color: white;\">The cost function and loss function are not the same. The loss function calculates the error for each individual observation, while the cost function calculates the error across the entire dataset. Although data scientists often use these terms interchangeably, they are distinct in their roles.</p>\n",
    "</div>"
   ]
  },
  {
   "cell_type": "code",
   "execution_count": 32,
   "id": "thick-pastor",
   "metadata": {
    "id": "thick-pastor",
    "outputId": "ced000c0-cb2f-404b-8a8d-8e8666acaac6"
   },
   "outputs": [
    {
     "data": {
      "text/html": [
       "<div>\n",
       "<style scoped>\n",
       "    .dataframe tbody tr th:only-of-type {\n",
       "        vertical-align: middle;\n",
       "    }\n",
       "\n",
       "    .dataframe tbody tr th {\n",
       "        vertical-align: top;\n",
       "    }\n",
       "\n",
       "    .dataframe thead th {\n",
       "        text-align: right;\n",
       "    }\n",
       "</style>\n",
       "<table border=\"1\" class=\"dataframe\">\n",
       "  <thead>\n",
       "    <tr style=\"text-align: right;\">\n",
       "      <th></th>\n",
       "      <th>Actual</th>\n",
       "      <th>Pred</th>\n",
       "      <th>Residual</th>\n",
       "    </tr>\n",
       "  </thead>\n",
       "  <tbody>\n",
       "    <tr>\n",
       "      <th>95</th>\n",
       "      <td>16.9</td>\n",
       "      <td>16.408024</td>\n",
       "      <td>0.491976</td>\n",
       "    </tr>\n",
       "    <tr>\n",
       "      <th>15</th>\n",
       "      <td>22.4</td>\n",
       "      <td>20.889882</td>\n",
       "      <td>1.510118</td>\n",
       "    </tr>\n",
       "    <tr>\n",
       "      <th>30</th>\n",
       "      <td>21.4</td>\n",
       "      <td>21.553843</td>\n",
       "      <td>-0.153843</td>\n",
       "    </tr>\n",
       "    <tr>\n",
       "      <th>158</th>\n",
       "      <td>7.3</td>\n",
       "      <td>10.608503</td>\n",
       "      <td>-3.308503</td>\n",
       "    </tr>\n",
       "    <tr>\n",
       "      <th>128</th>\n",
       "      <td>24.7</td>\n",
       "      <td>22.112373</td>\n",
       "      <td>2.587627</td>\n",
       "    </tr>\n",
       "    <tr>\n",
       "      <th>115</th>\n",
       "      <td>12.6</td>\n",
       "      <td>13.105592</td>\n",
       "      <td>-0.505592</td>\n",
       "    </tr>\n",
       "    <tr>\n",
       "      <th>69</th>\n",
       "      <td>22.3</td>\n",
       "      <td>21.057192</td>\n",
       "      <td>1.242808</td>\n",
       "    </tr>\n",
       "    <tr>\n",
       "      <th>170</th>\n",
       "      <td>8.4</td>\n",
       "      <td>7.461010</td>\n",
       "      <td>0.938990</td>\n",
       "    </tr>\n",
       "    <tr>\n",
       "      <th>174</th>\n",
       "      <td>11.5</td>\n",
       "      <td>13.606346</td>\n",
       "      <td>-2.106346</td>\n",
       "    </tr>\n",
       "    <tr>\n",
       "      <th>45</th>\n",
       "      <td>14.9</td>\n",
       "      <td>15.155070</td>\n",
       "      <td>-0.255070</td>\n",
       "    </tr>\n",
       "    <tr>\n",
       "      <th>66</th>\n",
       "      <td>9.5</td>\n",
       "      <td>9.048320</td>\n",
       "      <td>0.451680</td>\n",
       "    </tr>\n",
       "    <tr>\n",
       "      <th>182</th>\n",
       "      <td>8.7</td>\n",
       "      <td>6.653283</td>\n",
       "      <td>2.046717</td>\n",
       "    </tr>\n",
       "    <tr>\n",
       "      <th>165</th>\n",
       "      <td>11.9</td>\n",
       "      <td>14.345545</td>\n",
       "      <td>-2.445545</td>\n",
       "    </tr>\n",
       "    <tr>\n",
       "      <th>78</th>\n",
       "      <td>5.3</td>\n",
       "      <td>8.903493</td>\n",
       "      <td>-3.603493</td>\n",
       "    </tr>\n",
       "    <tr>\n",
       "      <th>186</th>\n",
       "      <td>10.3</td>\n",
       "      <td>9.689590</td>\n",
       "      <td>0.610410</td>\n",
       "    </tr>\n",
       "    <tr>\n",
       "      <th>177</th>\n",
       "      <td>11.7</td>\n",
       "      <td>12.164944</td>\n",
       "      <td>-0.464944</td>\n",
       "    </tr>\n",
       "    <tr>\n",
       "      <th>56</th>\n",
       "      <td>5.5</td>\n",
       "      <td>8.736284</td>\n",
       "      <td>-3.236284</td>\n",
       "    </tr>\n",
       "    <tr>\n",
       "      <th>152</th>\n",
       "      <td>16.6</td>\n",
       "      <td>16.265073</td>\n",
       "      <td>0.334927</td>\n",
       "    </tr>\n",
       "    <tr>\n",
       "      <th>82</th>\n",
       "      <td>11.3</td>\n",
       "      <td>10.277596</td>\n",
       "      <td>1.022404</td>\n",
       "    </tr>\n",
       "    <tr>\n",
       "      <th>68</th>\n",
       "      <td>18.9</td>\n",
       "      <td>18.831091</td>\n",
       "      <td>0.068909</td>\n",
       "    </tr>\n",
       "    <tr>\n",
       "      <th>124</th>\n",
       "      <td>19.7</td>\n",
       "      <td>19.560367</td>\n",
       "      <td>0.139633</td>\n",
       "    </tr>\n",
       "    <tr>\n",
       "      <th>16</th>\n",
       "      <td>12.5</td>\n",
       "      <td>13.251035</td>\n",
       "      <td>-0.751035</td>\n",
       "    </tr>\n",
       "    <tr>\n",
       "      <th>148</th>\n",
       "      <td>10.9</td>\n",
       "      <td>12.336207</td>\n",
       "      <td>-1.436207</td>\n",
       "    </tr>\n",
       "    <tr>\n",
       "      <th>93</th>\n",
       "      <td>22.2</td>\n",
       "      <td>21.306951</td>\n",
       "      <td>0.893049</td>\n",
       "    </tr>\n",
       "    <tr>\n",
       "      <th>65</th>\n",
       "      <td>9.3</td>\n",
       "      <td>7.827403</td>\n",
       "      <td>1.472597</td>\n",
       "    </tr>\n",
       "    <tr>\n",
       "      <th>60</th>\n",
       "      <td>8.1</td>\n",
       "      <td>5.809574</td>\n",
       "      <td>2.290426</td>\n",
       "    </tr>\n",
       "    <tr>\n",
       "      <th>84</th>\n",
       "      <td>21.7</td>\n",
       "      <td>20.757532</td>\n",
       "      <td>0.942468</td>\n",
       "    </tr>\n",
       "    <tr>\n",
       "      <th>67</th>\n",
       "      <td>13.4</td>\n",
       "      <td>11.981381</td>\n",
       "      <td>1.418619</td>\n",
       "    </tr>\n",
       "    <tr>\n",
       "      <th>125</th>\n",
       "      <td>10.6</td>\n",
       "      <td>9.183496</td>\n",
       "      <td>1.416504</td>\n",
       "    </tr>\n",
       "    <tr>\n",
       "      <th>132</th>\n",
       "      <td>5.7</td>\n",
       "      <td>8.506699</td>\n",
       "      <td>-2.806699</td>\n",
       "    </tr>\n",
       "    <tr>\n",
       "      <th>9</th>\n",
       "      <td>10.6</td>\n",
       "      <td>12.466468</td>\n",
       "      <td>-1.866468</td>\n",
       "    </tr>\n",
       "    <tr>\n",
       "      <th>18</th>\n",
       "      <td>11.3</td>\n",
       "      <td>10.003377</td>\n",
       "      <td>1.296623</td>\n",
       "    </tr>\n",
       "    <tr>\n",
       "      <th>55</th>\n",
       "      <td>23.7</td>\n",
       "      <td>21.387671</td>\n",
       "      <td>2.312329</td>\n",
       "    </tr>\n",
       "    <tr>\n",
       "      <th>75</th>\n",
       "      <td>8.7</td>\n",
       "      <td>12.249664</td>\n",
       "      <td>-3.549664</td>\n",
       "    </tr>\n",
       "    <tr>\n",
       "      <th>150</th>\n",
       "      <td>16.1</td>\n",
       "      <td>18.266615</td>\n",
       "      <td>-2.166615</td>\n",
       "    </tr>\n",
       "    <tr>\n",
       "      <th>104</th>\n",
       "      <td>20.7</td>\n",
       "      <td>20.137663</td>\n",
       "      <td>0.562337</td>\n",
       "    </tr>\n",
       "    <tr>\n",
       "      <th>135</th>\n",
       "      <td>11.6</td>\n",
       "      <td>14.055140</td>\n",
       "      <td>-2.455140</td>\n",
       "    </tr>\n",
       "    <tr>\n",
       "      <th>137</th>\n",
       "      <td>20.8</td>\n",
       "      <td>20.854112</td>\n",
       "      <td>-0.054112</td>\n",
       "    </tr>\n",
       "    <tr>\n",
       "      <th>164</th>\n",
       "      <td>11.9</td>\n",
       "      <td>11.017444</td>\n",
       "      <td>0.882556</td>\n",
       "    </tr>\n",
       "    <tr>\n",
       "      <th>76</th>\n",
       "      <td>6.9</td>\n",
       "      <td>4.568996</td>\n",
       "      <td>2.331004</td>\n",
       "    </tr>\n",
       "  </tbody>\n",
       "</table>\n",
       "</div>"
      ],
      "text/plain": [
       "     Actual       Pred  Residual\n",
       "95     16.9  16.408024  0.491976\n",
       "15     22.4  20.889882  1.510118\n",
       "30     21.4  21.553843 -0.153843\n",
       "158     7.3  10.608503 -3.308503\n",
       "128    24.7  22.112373  2.587627\n",
       "115    12.6  13.105592 -0.505592\n",
       "69     22.3  21.057192  1.242808\n",
       "170     8.4   7.461010  0.938990\n",
       "174    11.5  13.606346 -2.106346\n",
       "45     14.9  15.155070 -0.255070\n",
       "66      9.5   9.048320  0.451680\n",
       "182     8.7   6.653283  2.046717\n",
       "165    11.9  14.345545 -2.445545\n",
       "78      5.3   8.903493 -3.603493\n",
       "186    10.3   9.689590  0.610410\n",
       "177    11.7  12.164944 -0.464944\n",
       "56      5.5   8.736284 -3.236284\n",
       "152    16.6  16.265073  0.334927\n",
       "82     11.3  10.277596  1.022404\n",
       "68     18.9  18.831091  0.068909\n",
       "124    19.7  19.560367  0.139633\n",
       "16     12.5  13.251035 -0.751035\n",
       "148    10.9  12.336207 -1.436207\n",
       "93     22.2  21.306951  0.893049\n",
       "65      9.3   7.827403  1.472597\n",
       "60      8.1   5.809574  2.290426\n",
       "84     21.7  20.757532  0.942468\n",
       "67     13.4  11.981381  1.418619\n",
       "125    10.6   9.183496  1.416504\n",
       "132     5.7   8.506699 -2.806699\n",
       "9      10.6  12.466468 -1.866468\n",
       "18     11.3  10.003377  1.296623\n",
       "55     23.7  21.387671  2.312329\n",
       "75      8.7  12.249664 -3.549664\n",
       "150    16.1  18.266615 -2.166615\n",
       "104    20.7  20.137663  0.562337\n",
       "135    11.6  14.055140 -2.455140\n",
       "137    20.8  20.854112 -0.054112\n",
       "164    11.9  11.017444  0.882556\n",
       "76      6.9   4.568996  2.331004"
      ]
     },
     "execution_count": 32,
     "metadata": {},
     "output_type": "execute_result"
    }
   ],
   "source": [
    "result_sample = comparing.iloc[:, :3]\n",
    "result_sample\n",
    "\n",
    "# Selecting only the first 3 columns to visualise the model performance."
   ]
  },
  {
   "cell_type": "code",
   "execution_count": 33,
   "id": "hybrid-incentive",
   "metadata": {
    "id": "hybrid-incentive",
    "outputId": "008df005-2092-4f10-fa9c-3f5e02c8bbcf"
   },
   "outputs": [
    {
     "data": {
      "image/png": "[encoded data removed]",
      "text/plain": [
       "<Figure size 1500x900 with 1 Axes>"
      ]
     },
     "metadata": {},
     "output_type": "display_data"
    }
   ],
   "source": [
    "result_sample.plot(kind =\"bar\", figsize=(15,9))\n",
    "plt.show();"
   ]
  },
  {
   "cell_type": "markdown",
   "id": "39b2563c",
   "metadata": {},
   "source": [
    "<a id=\"7\"></a>\n",
    "# <p style=\"background-color:#3498DB; font-family:newtimeroman;color:#FFF9ED; font-size:150%; text-align:center; border-radius: 15px 50px;\"> ✨ Error Metrics ✨</p>"
   ]
  },
  {
   "cell_type": "code",
   "execution_count": 34,
   "id": "local-stupid",
   "metadata": {
    "id": "local-stupid"
   },
   "outputs": [],
   "source": [
    "from sklearn.metrics import mean_absolute_error, mean_squared_error, r2_score"
   ]
  },
  {
   "cell_type": "code",
   "execution_count": 35,
   "id": "coordinate-worse",
   "metadata": {
    "id": "coordinate-worse",
    "outputId": "b2c2605d-b381-429a-c9e3-66ceb80493a7"
   },
   "outputs": [
    {
     "data": {
      "text/plain": [
       "0.899438024100912"
      ]
     },
     "execution_count": 35,
     "metadata": {},
     "output_type": "execute_result"
    }
   ],
   "source": [
    "R2_score = r2_score(y_test, y_pred)\n",
    "R2_score\n",
    "\n",
    "# Statistically R2 is between [0, 1]\n",
    "# In sklearn, [-np.inf, 1]"
   ]
  },
  {
   "cell_type": "markdown",
   "id": "bb8aa375",
   "metadata": {},
   "source": [
    "<button type=\"button\" class=\"btn btn-lg btn-danger\" data-toggle=\"popover\" title=\"Popover title\">Info</button>\n",
    "<a href=\"#toc\" class=\"btn btn-warning btn-lg active\" role=\"button\" aria-pressed=\"true\" style=\"color:black;\">Content</a>"
   ]
  },
  {
   "cell_type": "markdown",
   "id": "689c7a2a",
   "metadata": {},
   "source": [
    "<div style=\"background-color:#3498DB; padding:10px; border-radius: 10px; box-shadow: 2px 2px 4px rgba(0, 0, 0, 0.5);\">\n",
    "    <p style=\"font-weight: bold; color: white;\">89% of our data can be explained.</p>\n",
    "</div>\n"
   ]
  },
  {
   "cell_type": "code",
   "execution_count": 36,
   "id": "turkish-edward",
   "metadata": {
    "id": "turkish-edward",
    "outputId": "63706d93-eb2e-4dd1-95c1-b85eb6ee7f12"
   },
   "outputs": [
    {
     "data": {
      "text/plain": [
       "1.4607567168117601"
      ]
     },
     "execution_count": 36,
     "metadata": {},
     "output_type": "execute_result"
    }
   ],
   "source": [
    "mae = mean_absolute_error(y_test, y_pred)  # comparing.ABS.sum()/X_test.shape[0]\n",
    "mae\n",
    "\n",
    "# Take the absolute values of residuals and sum them up. Divide the summation by the number of observation points."
   ]
  },
  {
   "cell_type": "code",
   "execution_count": 37,
   "id": "9777fefb",
   "metadata": {
    "id": "9777fefb"
   },
   "outputs": [],
   "source": [
    "# comparing.ABS.sum()/X_test.shape[0]"
   ]
  },
  {
   "cell_type": "code",
   "execution_count": 38,
   "id": "c4390f4e",
   "metadata": {
    "id": "c4390f4e",
    "outputId": "ab9426b4-f411-4e2e-a162-1fc71be291a4"
   },
   "outputs": [
    {
     "data": {
      "text/plain": [
       "(40, 3)"
      ]
     },
     "execution_count": 38,
     "metadata": {},
     "output_type": "execute_result"
    }
   ],
   "source": [
    "X_test.shape"
   ]
  },
  {
   "cell_type": "code",
   "execution_count": 39,
   "id": "sacred-dylan",
   "metadata": {
    "id": "sacred-dylan",
    "outputId": "23c25a5d-0f54-46ec-8904-9ac1aebd62ad"
   },
   "outputs": [
    {
     "data": {
      "text/plain": [
       "3.174097353976104"
      ]
     },
     "execution_count": 39,
     "metadata": {},
     "output_type": "execute_result"
    }
   ],
   "source": [
    "mse = mean_squared_error(y_test, y_pred)  # comparing.LSE.sum()/X_test.shape[0]\n",
    "mse\n",
    "\n",
    "# Square the residuals individually and sum them up. Divide the summation by the number of observation points.\n",
    "# Penalises large errors. Difficult to interpret as it changes the scale."
   ]
  },
  {
   "cell_type": "markdown",
   "id": "2fdbbbaa",
   "metadata": {},
   "source": [
    "<button type=\"button\" class=\"btn btn-lg btn-danger\" data-toggle=\"popover\" title=\"Popover title\">Info</button>\n",
    "<a href=\"#toc\" class=\"btn btn-warning btn-lg active\" role=\"button\" aria-pressed=\"true\" style=\"color:black;\">Content</a>"
   ]
  },
  {
   "cell_type": "markdown",
   "id": "484da761",
   "metadata": {},
   "source": [
    "<div style=\"background-color:#3498DB; padding:10px; border-radius: 10px; box-shadow: 2px 2px 4px rgba(0, 0, 0, 0.5);\">\n",
    "    <p style=\"font-weight: bold; color: white;\">MAE (Mean Absolute Error) and my error share the same unit, whereas MSE (Mean Squared Error) results in a different unit since it involves squaring the errors.</p>\n",
    "</div>\n"
   ]
  },
  {
   "cell_type": "code",
   "execution_count": 40,
   "id": "d653678b",
   "metadata": {
    "id": "d653678b"
   },
   "outputs": [],
   "source": [
    "# Comparing.LSE.sum()/X_test.shape[0]"
   ]
  },
  {
   "cell_type": "code",
   "execution_count": 41,
   "id": "naked-medicaid",
   "metadata": {
    "id": "naked-medicaid",
    "outputId": "34c3dd8d-a7a3-4ab6-fb87-f88fe7454c9e"
   },
   "outputs": [
    {
     "data": {
      "text/plain": [
       "1.7815996615334502"
      ]
     },
     "execution_count": 41,
     "metadata": {},
     "output_type": "execute_result"
    }
   ],
   "source": [
    "rmse = np.sqrt(mean_squared_error(y_test, y_pred)) #(comparing.LSE.sum()/X_test.shape[0])**0.5\n",
    "rmse\n",
    "\n",
    "# Square the residuals individually and sum them up. Divide the summation by the number of observation points. And then square root the result.\n",
    "# Penalises large errors. Easy to interpret as we bring back the scale of the values to normal level by square rooting it."
   ]
  },
  {
   "cell_type": "code",
   "execution_count": 42,
   "id": "60bec0f6",
   "metadata": {
    "id": "60bec0f6"
   },
   "outputs": [],
   "source": [
    "# (comparing.LSE.sum()/X_test.shape[0])**0.5"
   ]
  },
  {
   "cell_type": "code",
   "execution_count": 43,
   "id": "right-stylus",
   "metadata": {
    "id": "right-stylus",
    "outputId": "2841d1b2-aa9a-4e08-c7e8-a11486796720"
   },
   "outputs": [
    {
     "data": {
      "text/plain": [
       "14.0225"
      ]
     },
     "execution_count": 43,
     "metadata": {},
     "output_type": "execute_result"
    }
   ],
   "source": [
    "sales_mean = df[\"sales\"].mean()\n",
    "sales_mean\n",
    "\n",
    "# Let's take the mean of our target to compare how well our model is doing with respect to the target mean.\n",
    "# (how much better our model is than just predicting the mean of the target every single time)"
   ]
  },
  {
   "cell_type": "code",
   "execution_count": 44,
   "id": "threatened-simon",
   "metadata": {
    "id": "threatened-simon",
    "outputId": "fb5a7154-9595-49ff-83f8-f9532403b6cb"
   },
   "outputs": [
    {
     "data": {
      "text/plain": [
       "0.10417234564533856"
      ]
     },
     "execution_count": 44,
     "metadata": {},
     "output_type": "execute_result"
    }
   ],
   "source": [
    "mae / sales_mean\n",
    "\n",
    "# Margin of error of our model according to MAE is 10%."
   ]
  },
  {
   "cell_type": "code",
   "execution_count": 45,
   "id": "absent-bandwidth",
   "metadata": {
    "id": "absent-bandwidth",
    "outputId": "67301958-4c8c-4228-84a0-bf963871388c"
   },
   "outputs": [
    {
     "data": {
      "text/plain": [
       "0.127052926477693"
      ]
     },
     "execution_count": 45,
     "metadata": {},
     "output_type": "execute_result"
    }
   ],
   "source": [
    "rmse / sales_mean\n",
    "\n",
    "# Margin of error of our model according to RMSE is 13%. Notice that margin of error for RMSE is greater than that of MAE.\n",
    "# That is due to the fact that RMSE penalises large errors, hence the result is always larger compared to MAE."
   ]
  },
  {
   "cell_type": "markdown",
   "id": "18235ee8",
   "metadata": {},
   "source": [
    "<a id=\"8\"></a>\n",
    "# <p style=\"background-color:#3498DB; font-family:newtimeroman;color:#FFF9ED; font-size:150%; text-align:center; border-radius: 15px 50px;\"> ✨ Adjusted R2 ✨</p>"
   ]
  },
  {
   "cell_type": "markdown",
   "id": "31f347cf",
   "metadata": {
    "id": "31f347cf"
   },
   "source": [
    "https://towardsdatascience.com/demystifying-r-squared-and-adjusted-r-squared-52903c006a60"
   ]
  },
  {
   "cell_type": "markdown",
   "id": "deaded63",
   "metadata": {},
   "source": [
    "<button type=\"button\" class=\"btn btn-lg btn-danger\" data-toggle=\"popover\" title=\"Popover title\">Info</button>\n",
    "<a href=\"#toc\" class=\"btn btn-warning btn-lg active\" role=\"button\" aria-pressed=\"true\" style=\"color:black;\">Content</a>"
   ]
  },
  {
   "cell_type": "markdown",
   "id": "ddeda3f6",
   "metadata": {},
   "source": [
    "<div style=\"background-color:#3498DB; padding:10px; border-radius: 10px; box-shadow: 2px 2px 4px rgba(0, 0, 0, 0.5);\">\n",
    "    <p style=\"font-weight: bold; color: white;\">When there is a change in our data, the R2 score can sometimes show a false improvement. To address this, we use the adjusted R2 score. Adjusted R2 remains stable even if our data grows or the number of rows changes.</p>\n",
    "</div>\n"
   ]
  },
  {
   "cell_type": "code",
   "execution_count": 46,
   "id": "headed-turner",
   "metadata": {
    "id": "headed-turner"
   },
   "outputs": [],
   "source": [
    "def adj_r2(y_test, y_pred, X):\n",
    "    r2 = r2_score(y_test, y_pred)\n",
    "    n = X.shape[0] # number of observations (rows)\n",
    "    p = X.shape[1] # number of independent variables\n",
    "    adj_r2 = 1 - (1-r2)*(n-1)/(n-p-1)\n",
    "    return adj_r2\n",
    "\n",
    "# Every added independent feature, in the worst-case scenario, will not change\n",
    "# the r2 score for better or worse. In the best-case scenario, it will improve the r2 score.\n",
    "# This creates a disadvantage when interpreting the r2 score if we have too many\n",
    "# independent features because we don’t account for the number of independent features\n",
    "# it took us to get to a certain r2 score. The adjusted r2 score does exactly that.\n",
    "# It accounts for the number of independent features it took us to achieve a certain r2 score,\n",
    "# making it a more robust estimate of the true r2 score in situations where we have a lot of\n",
    "# independent features. Scikit-learn does not have a built-in function to calculate\n",
    "# the adjusted r2 score out of the box, so we implemented our own function to do that."
   ]
  },
  {
   "cell_type": "code",
   "execution_count": 47,
   "id": "ad2effad",
   "metadata": {
    "id": "ad2effad",
    "outputId": "b4ad9b5d-a451-47f6-baf9-ed8769921d1d"
   },
   "outputs": [
    {
     "data": {
      "text/plain": [
       "(200, 3)"
      ]
     },
     "execution_count": 47,
     "metadata": {},
     "output_type": "execute_result"
    }
   ],
   "source": [
    "X.shape"
   ]
  },
  {
   "cell_type": "code",
   "execution_count": 48,
   "id": "parental-depression",
   "metadata": {
    "id": "parental-depression",
    "outputId": "dc77764d-a426-4451-8026-2ae352c72dff"
   },
   "outputs": [
    {
     "data": {
      "text/plain": [
       "0.8978988101840892"
      ]
     },
     "execution_count": 48,
     "metadata": {},
     "output_type": "execute_result"
    }
   ],
   "source": [
    "adj_r2(y_test, y_pred, X)"
   ]
  },
  {
   "cell_type": "markdown",
   "id": "e1c9990c",
   "metadata": {},
   "source": [
    "<a id=\"9\"></a>\n",
    "# <p style=\"background-color:#3498DB; font-family:newtimeroman;color:#FFF9ED; font-size:150%; text-align:center; border-radius: 15px 50px;\"> ✨ What is the concept of punishment for RMSE error metric? ✨</p>"
   ]
  },
  {
   "cell_type": "markdown",
   "id": "3d81d111",
   "metadata": {},
   "source": [
    "<a href=\"#toc\" class=\"btn btn-warning btn-lg active\" role=\"button\" aria-pressed=\"true\" style=\"color:black;\">Content</a>"
   ]
  },
  {
   "cell_type": "code",
   "execution_count": 49,
   "id": "minor-election",
   "metadata": {
    "id": "minor-election"
   },
   "outputs": [],
   "source": [
    "variables = {\"Actual\": [1000, 2000, 3000, 4000, 5000], \"pred\": [1100, 2200, 3200, 4200, 5300]} # 5300\n",
    "\n",
    "# Let's demonstrate with an example how RMSE penalises large errors."
   ]
  },
  {
   "cell_type": "code",
   "execution_count": 50,
   "id": "surprising-bidder",
   "metadata": {
    "id": "surprising-bidder",
    "outputId": "160ad786-ac86-45c6-a022-8e6641c66a96"
   },
   "outputs": [
    {
     "data": {
      "text/html": [
       "<div>\n",
       "<style scoped>\n",
       "    .dataframe tbody tr th:only-of-type {\n",
       "        vertical-align: middle;\n",
       "    }\n",
       "\n",
       "    .dataframe tbody tr th {\n",
       "        vertical-align: top;\n",
       "    }\n",
       "\n",
       "    .dataframe thead th {\n",
       "        text-align: right;\n",
       "    }\n",
       "</style>\n",
       "<table border=\"1\" class=\"dataframe\">\n",
       "  <thead>\n",
       "    <tr style=\"text-align: right;\">\n",
       "      <th></th>\n",
       "      <th>Actual</th>\n",
       "      <th>pred</th>\n",
       "    </tr>\n",
       "  </thead>\n",
       "  <tbody>\n",
       "    <tr>\n",
       "      <th>0</th>\n",
       "      <td>1000</td>\n",
       "      <td>1100</td>\n",
       "    </tr>\n",
       "    <tr>\n",
       "      <th>1</th>\n",
       "      <td>2000</td>\n",
       "      <td>2200</td>\n",
       "    </tr>\n",
       "    <tr>\n",
       "      <th>2</th>\n",
       "      <td>3000</td>\n",
       "      <td>3200</td>\n",
       "    </tr>\n",
       "    <tr>\n",
       "      <th>3</th>\n",
       "      <td>4000</td>\n",
       "      <td>4200</td>\n",
       "    </tr>\n",
       "    <tr>\n",
       "      <th>4</th>\n",
       "      <td>5000</td>\n",
       "      <td>5300</td>\n",
       "    </tr>\n",
       "  </tbody>\n",
       "</table>\n",
       "</div>"
      ],
      "text/plain": [
       "   Actual  pred\n",
       "0    1000  1100\n",
       "1    2000  2200\n",
       "2    3000  3200\n",
       "3    4000  4200\n",
       "4    5000  5300"
      ]
     },
     "execution_count": 50,
     "metadata": {},
     "output_type": "execute_result"
    }
   ],
   "source": [
    "df_2 = pd.DataFrame(variables)\n",
    "df_2"
   ]
  },
  {
   "cell_type": "code",
   "execution_count": 51,
   "id": "statistical-society",
   "metadata": {
    "id": "statistical-society",
    "outputId": "6a0ab416-f63f-44c6-86e8-69ada704221f"
   },
   "outputs": [
    {
     "data": {
      "text/plain": [
       "200.0"
      ]
     },
     "execution_count": 51,
     "metadata": {},
     "output_type": "execute_result"
    }
   ],
   "source": [
    "#mae\n",
    "y_test_ex = df_2.Actual\n",
    "y_pred_ex = df_2.pred\n",
    "\n",
    "mean_absolute_error(y_test_ex, y_pred_ex)"
   ]
  },
  {
   "cell_type": "code",
   "execution_count": 52,
   "id": "equivalent-exhibition",
   "metadata": {
    "id": "equivalent-exhibition",
    "outputId": "7b3d5651-2cd8-4555-bd0d-f096e6c9f35a"
   },
   "outputs": [
    {
     "data": {
      "text/plain": [
       "209.76176963403032"
      ]
     },
     "execution_count": 52,
     "metadata": {},
     "output_type": "execute_result"
    }
   ],
   "source": [
    "#rmse\n",
    "\n",
    "np.sqrt(mean_squared_error(y_test_ex, y_pred_ex))\n",
    "\n",
    "# When we don't have large errors; that is, the actual and predicted values are relatively close to each other,\n",
    "# RMSE and MAE scores will also be relatively close to each other due to the lack of large errors."
   ]
  },
  {
   "cell_type": "code",
   "execution_count": 53,
   "id": "aware-connectivity",
   "metadata": {
    "id": "aware-connectivity"
   },
   "outputs": [],
   "source": [
    "variables2 = {\"Actual\": [1000, 2000, 3000, 4000, 5000], \"pred\": [1100, 2200, 3200, 4200, 6000]} # 5300\n",
    "\n",
    "# We added a way more off prediction now to represent a large mistake."
   ]
  },
  {
   "cell_type": "code",
   "execution_count": 54,
   "id": "437c13cf",
   "metadata": {
    "id": "437c13cf",
    "outputId": "6a5e2167-3ce0-46ab-8f94-f4622f9bac91"
   },
   "outputs": [
    {
     "data": {
      "text/html": [
       "<div>\n",
       "<style scoped>\n",
       "    .dataframe tbody tr th:only-of-type {\n",
       "        vertical-align: middle;\n",
       "    }\n",
       "\n",
       "    .dataframe tbody tr th {\n",
       "        vertical-align: top;\n",
       "    }\n",
       "\n",
       "    .dataframe thead th {\n",
       "        text-align: right;\n",
       "    }\n",
       "</style>\n",
       "<table border=\"1\" class=\"dataframe\">\n",
       "  <thead>\n",
       "    <tr style=\"text-align: right;\">\n",
       "      <th></th>\n",
       "      <th>Actual</th>\n",
       "      <th>pred</th>\n",
       "    </tr>\n",
       "  </thead>\n",
       "  <tbody>\n",
       "    <tr>\n",
       "      <th>0</th>\n",
       "      <td>1000</td>\n",
       "      <td>1100</td>\n",
       "    </tr>\n",
       "    <tr>\n",
       "      <th>1</th>\n",
       "      <td>2000</td>\n",
       "      <td>2200</td>\n",
       "    </tr>\n",
       "    <tr>\n",
       "      <th>2</th>\n",
       "      <td>3000</td>\n",
       "      <td>3200</td>\n",
       "    </tr>\n",
       "    <tr>\n",
       "      <th>3</th>\n",
       "      <td>4000</td>\n",
       "      <td>4200</td>\n",
       "    </tr>\n",
       "    <tr>\n",
       "      <th>4</th>\n",
       "      <td>5000</td>\n",
       "      <td>6000</td>\n",
       "    </tr>\n",
       "  </tbody>\n",
       "</table>\n",
       "</div>"
      ],
      "text/plain": [
       "   Actual  pred\n",
       "0    1000  1100\n",
       "1    2000  2200\n",
       "2    3000  3200\n",
       "3    4000  4200\n",
       "4    5000  6000"
      ]
     },
     "execution_count": 54,
     "metadata": {},
     "output_type": "execute_result"
    }
   ],
   "source": [
    "df_3 = pd.DataFrame(variables2)\n",
    "df_3"
   ]
  },
  {
   "cell_type": "code",
   "execution_count": 55,
   "id": "553feb49",
   "metadata": {
    "id": "553feb49",
    "outputId": "e10d9caf-c4e5-4de2-ff82-398c103cb403"
   },
   "outputs": [
    {
     "data": {
      "text/plain": [
       "340.0"
      ]
     },
     "execution_count": 55,
     "metadata": {},
     "output_type": "execute_result"
    }
   ],
   "source": [
    "#mae\n",
    "\n",
    "y_test_ex = df_3.Actual\n",
    "y_pred_ex = df_3.pred\n",
    "\n",
    "mean_absolute_error(y_test_ex, y_pred_ex)"
   ]
  },
  {
   "cell_type": "code",
   "execution_count": 56,
   "id": "b6bea86e",
   "metadata": {
    "id": "b6bea86e",
    "outputId": "018b4e09-e60a-4274-b34a-41153c47892a"
   },
   "outputs": [
    {
     "data": {
      "text/plain": [
       "475.3945729601885"
      ]
     },
     "execution_count": 56,
     "metadata": {},
     "output_type": "execute_result"
    }
   ],
   "source": [
    "#rmse\n",
    "\n",
    "np.sqrt(mean_squared_error(y_test_ex, y_pred_ex))\n",
    "\n",
    "# As you can see, when large errors are present, RMSE gets much larger than MAE. This is due to the fact that RMSE penalises\n",
    "# large errors by squaring them, whereas MAE does not do that. The larger errors your model makes, the more RMSE deviates from MAE.\n",
    "# Hence, in case of large errors, RMSE is a better estimate of model performance than MAE, since it accounts for large errors when large errors are undesirable."
   ]
  },
  {
   "cell_type": "markdown",
   "id": "055ee6cc",
   "metadata": {},
   "source": [
    "<a id=\"10\"></a>\n",
    "# <p style=\"background-color:#3498DB; font-family:newtimeroman;color:#FFF9ED; font-size:150%; text-align:center; border-radius: 15px 50px;\"> ✨ Evaluation Model ✨</p>"
   ]
  },
  {
   "cell_type": "markdown",
   "id": "101d748a",
   "metadata": {},
   "source": [
    "<a href=\"#toc\" class=\"btn btn-warning btn-lg active\" role=\"button\" aria-pressed=\"true\" style=\"color:black;\">Content</a>"
   ]
  },
  {
   "cell_type": "code",
   "execution_count": 57,
   "id": "maritime-physiology",
   "metadata": {
    "id": "maritime-physiology"
   },
   "outputs": [],
   "source": [
    "def eval_metric(actual, pred):\n",
    "    \"\"\"\n",
    "    Prints out to the console MAE, MSE and RMSE of a regression model,\n",
    "    given the actual and predicted values of the target.\n",
    "\n",
    "        Parameters:\n",
    "            actual: A collection of actual target values.\n",
    "            pred: A collection of predicted target values.\n",
    "\n",
    "        Returns:\n",
    "            None\n",
    "    \"\"\"\n",
    "    mae = mean_absolute_error(actual, pred)\n",
    "    mse = mean_squared_error(actual, pred)\n",
    "    rmse = np.sqrt(mean_squared_error(actual, pred))\n",
    "    R2_score = r2_score(actual, pred)\n",
    "    print(\"Model testing performance:\")\n",
    "    print(\"--------------------------\")\n",
    "    print(f\"R2_score : {R2_score}\")\n",
    "    print(f\"MAE {'':<5}: {mae}\")\n",
    "    print(f\"MSE {'':<5}: {mse}\")\n",
    "    print(f\"RMSE{'':<5}: {rmse}\")\n",
    "\n",
    "    return None"
   ]
  },
  {
   "cell_type": "code",
   "execution_count": 58,
   "id": "flying-economy",
   "metadata": {
    "id": "flying-economy",
    "outputId": "cf74e7d5-aba9-4757-8a54-f55a9c188339"
   },
   "outputs": [
    {
     "name": "stdout",
     "output_type": "stream",
     "text": [
      "Model testing performance:\n",
      "--------------------------\n",
      "R2_score : 0.899438024100912\n",
      "MAE      : 1.4607567168117601\n",
      "MSE      : 3.174097353976104\n",
      "RMSE     : 1.7815996615334502\n"
     ]
    }
   ],
   "source": [
    "eval_metric(y_test, y_pred)\n",
    "\n",
    "# Get the evaluation metrics on the test set"
   ]
  },
  {
   "cell_type": "code",
   "execution_count": 59,
   "id": "aboriginal-kelly",
   "metadata": {
    "id": "aboriginal-kelly"
   },
   "outputs": [],
   "source": [
    "y_train_pred = model.predict(X_train)"
   ]
  },
  {
   "cell_type": "code",
   "execution_count": 60,
   "id": "located-mountain",
   "metadata": {
    "id": "located-mountain",
    "outputId": "22f8b0dd-41d8-483d-e9bd-aca26b65d13f"
   },
   "outputs": [
    {
     "name": "stdout",
     "output_type": "stream",
     "text": [
      "Model testing performance:\n",
      "--------------------------\n",
      "R2_score : 0.8957008271017818\n",
      "MAE      : 1.1984678961500133\n",
      "MSE      : 2.705129423081414\n",
      "RMSE     : 1.644727765644337\n"
     ]
    }
   ],
   "source": [
    "eval_metric(y_train, y_train_pred)\n",
    "\n",
    "# Get the evaluation metrics on the train set"
   ]
  },
  {
   "cell_type": "markdown",
   "id": "d9b4cf8f",
   "metadata": {},
   "source": [
    "<a id=\"11\"></a>\n",
    "# <p style=\"background-color:#3498DB; font-family:newtimeroman;color:#FFF9ED; font-size:150%; text-align:center; border-radius: 15px 50px;\"> ✨ Is data suitable for linear regression? ✨</p>"
   ]
  },
  {
   "cell_type": "markdown",
   "id": "amended-pension",
   "metadata": {
    "id": "amended-pension"
   },
   "source": [
    "For future reference:\n",
    "\n",
    "https://stats.stackexchange.com/questions/12262/what-if-residuals-are-normally-distributed-but-y-is-not"
   ]
  },
  {
   "cell_type": "markdown",
   "id": "7c2dde0d",
   "metadata": {},
   "source": [
    "<button type=\"button\" class=\"btn btn-lg btn-danger\" data-toggle=\"popover\" title=\"Popover title\">Info</button>\n",
    "<a href=\"#toc\" class=\"btn btn-warning btn-lg active\" role=\"button\" aria-pressed=\"true\" style=\"color:black;\">Content</a>"
   ]
  },
  {
   "cell_type": "markdown",
   "id": "871ebaad",
   "metadata": {},
   "source": [
    "<div style=\"background-color:#3498DB; padding:10px; border-radius: 10px; box-shadow: 2px 2px 4px rgba(0, 0, 0, 0.5);\">\n",
    "    <p style=\"font-weight: bold; color: white;\">One of the linear regression assumptions is that the residuals should be normally distributed, with no specific pattern, and their mean should be around zero.</p>\n",
    "</div>\n"
   ]
  },
  {
   "cell_type": "code",
   "execution_count": 61,
   "id": "through-junction",
   "metadata": {
    "id": "through-junction"
   },
   "outputs": [],
   "source": [
    "residuals = y_test-y_pred\n",
    "\n",
    "# Calculate the residuals. We will plot them later on."
   ]
  },
  {
   "cell_type": "code",
   "execution_count": 62,
   "id": "entitled-wallace",
   "metadata": {
    "id": "entitled-wallace",
    "outputId": "8f869598-0395-44a2-8d6e-f178dad079ef"
   },
   "outputs": [
    {
     "data": {
      "image/png": "[encoded data removed]",
      "text/plain": [
       "<Figure size 1000x600 with 1 Axes>"
      ]
     },
     "metadata": {},
     "output_type": "display_data"
    }
   ],
   "source": [
    "plt.figure(figsize = (10,6))\n",
    "sns.scatterplot(x = y_test, y = residuals) #-residuals\n",
    "plt.axhline(y = 0, color =\"r\", linestyle = \"--\")\n",
    "plt.ylabel(\"residuals\")\n",
    "plt.show();\n",
    "\n",
    "# There are 2 very fundamental and important assumptions we make on our residuals:\n",
    "# 1- They are normally distributed.\n",
    "# 2- They are randomly spread around the mean of 0. (This phenomenon is called homoscedasticity)"
   ]
  },
  {
   "cell_type": "code",
   "execution_count": 63,
   "id": "amateur-reminder",
   "metadata": {
    "id": "amateur-reminder",
    "outputId": "9c4e7204-9c60-48d6-8e1b-64a7723ff7bb"
   },
   "outputs": [
    {
     "data": {
      "image/png": "[encoded data removed]",
      "text/plain": [
       "<Figure size 1000x700 with 1 Axes>"
      ]
     },
     "metadata": {},
     "output_type": "display_data"
    }
   ],
   "source": [
    "sns.kdeplot(residuals)\n",
    "plt.show();\n",
    "\n",
    "# You can check kdeplot or histogram to evaluate the normality of the residuals."
   ]
  },
  {
   "cell_type": "code",
   "execution_count": 64,
   "id": "breathing-douglas",
   "metadata": {
    "id": "breathing-douglas",
    "outputId": "664cca86-6b0b-4ad3-841c-30862cbae480"
   },
   "outputs": [
    {
     "data": {
      "image/png": "[encoded data removed]",
      "text/plain": [
       "<Figure size 1000x700 with 1 Axes>"
      ]
     },
     "metadata": {},
     "output_type": "display_data"
    }
   ],
   "source": [
    "stats.probplot(residuals, dist =\"norm\", plot =plt)\n",
    "plt.show();\n",
    "\n",
    "# You can also check QQ-normality plot to check if residuals are normally distributed."
   ]
  },
  {
   "cell_type": "code",
   "execution_count": 65,
   "id": "compound-workshop",
   "metadata": {
    "id": "compound-workshop"
   },
   "outputs": [
    {
     "data": {
      "text/plain": [
       "-0.5399061927739798"
      ]
     },
     "execution_count": 65,
     "metadata": {},
     "output_type": "execute_result"
    }
   ],
   "source": [
    "from scipy.stats import skew\n",
    "skew(residuals)\n",
    "\n",
    "# Check the skewness of the residuals. This is another way of checking your data\n",
    "# against normality, with a more formal mathematical calculation.\n",
    "# If your skewness score is between [-1, 1], you could say that it's more or less normally distributed.\n",
    "# 0 is the perfect score, means perfectly normally distributed, which you'll probably never get."
   ]
  },
  {
   "cell_type": "code",
   "execution_count": 66,
   "id": "38803f6f",
   "metadata": {
    "id": "38803f6f"
   },
   "outputs": [],
   "source": [
    "# pip install yellowbrick (for shameless non-anaconda users)\n",
    "# conda install -c districtdatalabs yellowbrick  (for glorious anaconda users)\n",
    "# (-c means channel. So we are using the channel \"districtdatalabs\" to download the package.)"
   ]
  },
  {
   "cell_type": "code",
   "execution_count": 67,
   "id": "macro-sunday",
   "metadata": {
    "id": "macro-sunday",
    "outputId": "b43c1bff-7cf8-4fdf-c8a1-e58f8f497dd6",
    "scrolled": false
   },
   "outputs": [
    {
     "data": {
      "image/png": "[encoded data removed]",
      "text/plain": [
       "<Figure size 800x550 with 2 Axes>"
      ]
     },
     "metadata": {},
     "output_type": "display_data"
    }
   ],
   "source": [
    "from yellowbrick.regressor import ResidualsPlot\n",
    "\n",
    "# Instantiate the linear model and visualizer\n",
    "model = LinearRegression()\n",
    "visualizer = ResidualsPlot(model)\n",
    "\n",
    "visualizer.fit(X_train, y_train)  # Fit the training data to the visualizer\n",
    "visualizer.score(X_test, y_test)  # Evaluate the model on the test data\n",
    "visualizer.show();                # Finalize and render the figure\n",
    "\n",
    "# A much better way of visualising residuals is using `yellowbrick.regressor.ResidualsPlot`\n",
    "# This saves us manual labour.\n",
    "# yellowbrick is a great library specifically created to visualise scikit-learn models."
   ]
  },
  {
   "cell_type": "markdown",
   "id": "80e83654",
   "metadata": {},
   "source": [
    "<a id=\"12\"></a>\n",
    "# <p style=\"background-color:#3498DB; font-family:newtimeroman;color:#FFF9ED; font-size:150%; text-align:center; border-radius: 15px 50px;\"> ✨ Prediction Error for LinearRegression ✨</p>"
   ]
  },
  {
   "cell_type": "markdown",
   "id": "3fb77a5a",
   "metadata": {},
   "source": [
    "<a href=\"#toc\" class=\"btn btn-warning btn-lg active\" role=\"button\" aria-pressed=\"true\" style=\"color:black;\">Content</a>"
   ]
  },
  {
   "cell_type": "code",
   "execution_count": 68,
   "id": "south-pocket",
   "metadata": {
    "id": "south-pocket",
    "outputId": "60f4f37e-c593-40dd-9340-f13e17f4c066"
   },
   "outputs": [
    {
     "data": {
      "image/png": "[encoded data removed]",
      "text/plain": [
       "<Figure size 800x550 with 1 Axes>"
      ]
     },
     "metadata": {},
     "output_type": "display_data"
    }
   ],
   "source": [
    "from yellowbrick.regressor import PredictionError\n",
    "\n",
    "# Instantiate the linear model and visualizer\n",
    "model = LinearRegression()\n",
    "visualizer = PredictionError(model)\n",
    "\n",
    "visualizer.fit(X_train, y_train)  # Fit the training data to the visualizer\n",
    "visualizer.score(X_test, y_test)  # Evaluate the model on the test data\n",
    "visualizer.show();\n",
    "\n",
    "\n",
    "# On the x-axis, we've got the real target values, whereas on the y-axis, we've got the predicted target values.\n",
    "# The greyed-out dashed line is the reference( identity ) line, where predictions would meet our real target values should they be perfect.\n",
    "# But they're not perfect. Hence, we have the black dashed line, showing how far apart our residuals from the ideal perfect.\n"
   ]
  },
  {
   "cell_type": "markdown",
   "id": "ff7f94b0",
   "metadata": {},
   "source": [
    "<button type=\"button\" class=\"btn btn-lg btn-danger\" data-toggle=\"popover\" title=\"Popover title\">Info</button>\n",
    "<a href=\"#toc\" class=\"btn btn-warning btn-lg active\" role=\"button\" aria-pressed=\"true\" style=\"color:black;\">Content</a>"
   ]
  },
  {
   "cell_type": "markdown",
   "id": "302d456f",
   "metadata": {},
   "source": [
    "<div style=\"background-color:#3498DB; padding:10px; border-radius: 10px; box-shadow: 2px 2px 4px rgba(0, 0, 0, 0.5);\">\n",
    "    <p style=\"font-weight: bold; color: white;\">The point where y equals Y-hat indicates a perfect fit. Getting values as close as possible to the identity line signifies a higher accuracy in our results.</p>\n",
    "</div>\n"
   ]
  },
  {
   "cell_type": "markdown",
   "id": "5a72105b",
   "metadata": {},
   "source": [
    "<a id=\"13\"></a>\n",
    "# <p style=\"background-color:#3498DB; font-family:newtimeroman;color:#FFF9ED; font-size:150%; text-align:center; border-radius: 15px 50px;\"> ✨ Retraining Model on Full Data ✨</p>"
   ]
  },
  {
   "cell_type": "markdown",
   "id": "f2551a93",
   "metadata": {},
   "source": [
    "<a href=\"#toc\" class=\"btn btn-warning btn-lg active\" role=\"button\" aria-pressed=\"true\" style=\"color:black;\">Content</a>"
   ]
  },
  {
   "cell_type": "code",
   "execution_count": 69,
   "id": "appointed-redhead",
   "metadata": {
    "id": "appointed-redhead"
   },
   "outputs": [],
   "source": [
    "final_model = LinearRegression()\n",
    "\n",
    "# After we check our model and conclude that this model is good enough, we can train a brand new model, however,\n",
    "# on the entire dataset this time, as we no longer need to check the model performance once we conclude it's good enough."
   ]
  },
  {
   "cell_type": "code",
   "execution_count": 70,
   "id": "cellular-iceland",
   "metadata": {
    "id": "cellular-iceland",
    "outputId": "43a6a9b4-b59e-4b10-e59f-7667f709e272"
   },
   "outputs": [
    {
     "data": {
      "text/html": [
       "<style>#sk-container-id-2 {color: black;background-color: white;}#sk-container-id-2 pre{padding: 0;}#sk-container-id-2 div.sk-toggleable {background-color: white;}#sk-container-id-2 label.sk-toggleable__label {cursor: pointer;display: block;width: 100%;margin-bottom: 0;padding: 0.3em;box-sizing: border-box;text-align: center;}#sk-container-id-2 label.sk-toggleable__label-arrow:before {content: \"▸\";float: left;margin-right: 0.25em;color: #696969;}#sk-container-id-2 label.sk-toggleable__label-arrow:hover:before {color: black;}#sk-container-id-2 div.sk-estimator:hover label.sk-toggleable__label-arrow:before {color: black;}#sk-container-id-2 div.sk-toggleable__content {max-height: 0;max-width: 0;overflow: hidden;text-align: left;background-color: #f0f8ff;}#sk-container-id-2 div.sk-toggleable__content pre {margin: 0.2em;color: black;border-radius: 0.25em;background-color: #f0f8ff;}#sk-container-id-2 input.sk-toggleable__control:checked~div.sk-toggleable__content {max-height: 200px;max-width: 100%;overflow: auto;}#sk-container-id-2 input.sk-toggleable__control:checked~label.sk-toggleable__label-arrow:before {content: \"▾\";}#sk-container-id-2 div.sk-estimator input.sk-toggleable__control:checked~label.sk-toggleable__label {background-color: #d4ebff;}#sk-container-id-2 div.sk-label input.sk-toggleable__control:checked~label.sk-toggleable__label {background-color: #d4ebff;}#sk-container-id-2 input.sk-hidden--visually {border: 0;clip: rect(1px 1px 1px 1px);clip: rect(1px, 1px, 1px, 1px);height: 1px;margin: -1px;overflow: hidden;padding: 0;position: absolute;width: 1px;}#sk-container-id-2 div.sk-estimator {font-family: monospace;background-color: #f0f8ff;border: 1px dotted black;border-radius: 0.25em;box-sizing: border-box;margin-bottom: 0.5em;}#sk-container-id-2 div.sk-estimator:hover {background-color: #d4ebff;}#sk-container-id-2 div.sk-parallel-item::after {content: \"\";width: 100%;border-bottom: 1px solid gray;flex-grow: 1;}#sk-container-id-2 div.sk-label:hover label.sk-toggleable__label {background-color: #d4ebff;}#sk-container-id-2 div.sk-serial::before {content: \"\";position: absolute;border-left: 1px solid gray;box-sizing: border-box;top: 0;bottom: 0;left: 50%;z-index: 0;}#sk-container-id-2 div.sk-serial {display: flex;flex-direction: column;align-items: center;background-color: white;padding-right: 0.2em;padding-left: 0.2em;position: relative;}#sk-container-id-2 div.sk-item {position: relative;z-index: 1;}#sk-container-id-2 div.sk-parallel {display: flex;align-items: stretch;justify-content: center;background-color: white;position: relative;}#sk-container-id-2 div.sk-item::before, #sk-container-id-2 div.sk-parallel-item::before {content: \"\";position: absolute;border-left: 1px solid gray;box-sizing: border-box;top: 0;bottom: 0;left: 50%;z-index: -1;}#sk-container-id-2 div.sk-parallel-item {display: flex;flex-direction: column;z-index: 1;position: relative;background-color: white;}#sk-container-id-2 div.sk-parallel-item:first-child::after {align-self: flex-end;width: 50%;}#sk-container-id-2 div.sk-parallel-item:last-child::after {align-self: flex-start;width: 50%;}#sk-container-id-2 div.sk-parallel-item:only-child::after {width: 0;}#sk-container-id-2 div.sk-dashed-wrapped {border: 1px dashed gray;margin: 0 0.4em 0.5em 0.4em;box-sizing: border-box;padding-bottom: 0.4em;background-color: white;}#sk-container-id-2 div.sk-label label {font-family: monospace;font-weight: bold;display: inline-block;line-height: 1.2em;}#sk-container-id-2 div.sk-label-container {text-align: center;}#sk-container-id-2 div.sk-container {/* jupyter's `normalize.less` sets `[hidden] { display: none; }` but bootstrap.min.css set `[hidden] { display: none !important; }` so we also need the `!important` here to be able to override the default hidden behavior on the sphinx rendered scikit-learn.org. See: https://github.com/scikit-learn/scikit-learn/issues/21755 */display: inline-block !important;position: relative;}#sk-container-id-2 div.sk-text-repr-fallback {display: none;}</style><div id=\"sk-container-id-2\" class=\"sk-top-container\"><div class=\"sk-text-repr-fallback\"><pre>LinearRegression()</pre><b>In a Jupyter environment, please rerun this cell to show the HTML representation or trust the notebook. <br />On GitHub, the HTML representation is unable to render, please try loading this page with nbviewer.org.</b></div><div class=\"sk-container\" hidden><div class=\"sk-item\"><div class=\"sk-estimator sk-toggleable\"><input class=\"sk-toggleable__control sk-hidden--visually\" id=\"sk-estimator-id-2\" type=\"checkbox\" checked><label for=\"sk-estimator-id-2\" class=\"sk-toggleable__label sk-toggleable__label-arrow\">LinearRegression</label><div class=\"sk-toggleable__content\"><pre>LinearRegression()</pre></div></div></div></div></div>"
      ],
      "text/plain": [
       "LinearRegression()"
      ]
     },
     "execution_count": 70,
     "metadata": {},
     "output_type": "execute_result"
    }
   ],
   "source": [
    "final_model.fit(X, y)\n",
    "\n",
    "# Notice we are training the model on the entire dataset."
   ]
  },
  {
   "cell_type": "markdown",
   "id": "be435500",
   "metadata": {},
   "source": [
    "<a id=\"14\"></a>\n",
    "# <p style=\"background-color:#3498DB; font-family:newtimeroman;color:#FFF9ED; font-size:150%; text-align:center; border-radius: 15px 50px;\"> ✨ Coefficients ✨</p>"
   ]
  },
  {
   "cell_type": "markdown",
   "id": "d3fc6f4f",
   "metadata": {},
   "source": [
    "<a href=\"#toc\" class=\"btn btn-warning btn-lg active\" role=\"button\" aria-pressed=\"true\" style=\"color:black;\">Content</a>"
   ]
  },
  {
   "cell_type": "code",
   "execution_count": 71,
   "id": "incident-disabled",
   "metadata": {
    "id": "incident-disabled",
    "outputId": "374a58e6-067c-4131-d0bc-2bb4259221ce"
   },
   "outputs": [
    {
     "data": {
      "text/plain": [
       "array([ 0.04576465,  0.18853002, -0.00103749])"
      ]
     },
     "execution_count": 71,
     "metadata": {},
     "output_type": "execute_result"
    }
   ],
   "source": [
    "final_model.coef_\n",
    "\n",
    "# Let's check the model coefficients. Keep in mind that these coefficients are created for the independent features.\n",
    "# They are in the same order as with our columns in X."
   ]
  },
  {
   "cell_type": "code",
   "execution_count": 72,
   "id": "f15a9c8c",
   "metadata": {},
   "outputs": [],
   "source": [
    "# tum datayla egitince aldigimiz degerler degisti  .\n",
    "# yukaridaki degerlerden farkli . "
   ]
  },
  {
   "cell_type": "code",
   "execution_count": 73,
   "id": "stone-cooking",
   "metadata": {
    "id": "stone-cooking",
    "outputId": "d06d20de-d288-4ba8-b189-cd391e30c557"
   },
   "outputs": [
    {
     "data": {
      "text/plain": [
       "2.9388893694594085"
      ]
     },
     "execution_count": 73,
     "metadata": {},
     "output_type": "execute_result"
    }
   ],
   "source": [
    "# The bias/intercept of the model\n",
    "final_model.intercept_"
   ]
  },
  {
   "cell_type": "code",
   "execution_count": 74,
   "id": "spare-meaning",
   "metadata": {
    "id": "spare-meaning",
    "outputId": "2017cc4b-fa2a-4fdd-9fbb-22a5b06af698"
   },
   "outputs": [
    {
     "data": {
      "text/html": [
       "<div>\n",
       "<style scoped>\n",
       "    .dataframe tbody tr th:only-of-type {\n",
       "        vertical-align: middle;\n",
       "    }\n",
       "\n",
       "    .dataframe tbody tr th {\n",
       "        vertical-align: top;\n",
       "    }\n",
       "\n",
       "    .dataframe thead th {\n",
       "        text-align: right;\n",
       "    }\n",
       "</style>\n",
       "<table border=\"1\" class=\"dataframe\">\n",
       "  <thead>\n",
       "    <tr style=\"text-align: right;\">\n",
       "      <th></th>\n",
       "      <th>TV</th>\n",
       "      <th>radio</th>\n",
       "      <th>newspaper</th>\n",
       "    </tr>\n",
       "  </thead>\n",
       "  <tbody>\n",
       "    <tr>\n",
       "      <th>0</th>\n",
       "      <td>230.1</td>\n",
       "      <td>37.8</td>\n",
       "      <td>69.2</td>\n",
       "    </tr>\n",
       "    <tr>\n",
       "      <th>1</th>\n",
       "      <td>44.5</td>\n",
       "      <td>39.3</td>\n",
       "      <td>45.1</td>\n",
       "    </tr>\n",
       "    <tr>\n",
       "      <th>2</th>\n",
       "      <td>17.2</td>\n",
       "      <td>45.9</td>\n",
       "      <td>69.3</td>\n",
       "    </tr>\n",
       "    <tr>\n",
       "      <th>3</th>\n",
       "      <td>151.5</td>\n",
       "      <td>41.3</td>\n",
       "      <td>58.5</td>\n",
       "    </tr>\n",
       "    <tr>\n",
       "      <th>4</th>\n",
       "      <td>180.8</td>\n",
       "      <td>10.8</td>\n",
       "      <td>58.4</td>\n",
       "    </tr>\n",
       "  </tbody>\n",
       "</table>\n",
       "</div>"
      ],
      "text/plain": [
       "      TV  radio  newspaper\n",
       "0  230.1   37.8       69.2\n",
       "1   44.5   39.3       45.1\n",
       "2   17.2   45.9       69.3\n",
       "3  151.5   41.3       58.5\n",
       "4  180.8   10.8       58.4"
      ]
     },
     "execution_count": 74,
     "metadata": {},
     "output_type": "execute_result"
    }
   ],
   "source": [
    "X.head()\n",
    "\n",
    "# These columns are in the same order as with our coefficients from above."
   ]
  },
  {
   "cell_type": "markdown",
   "id": "e904952e",
   "metadata": {},
   "source": [
    "<a id=\"15\"></a>\n",
    "# <p style=\"background-color:#3498DB; font-family:newtimeroman;color:#FFF9ED; font-size:150%; text-align:center; border-radius: 15px 50px;\"> ✨ Prediction on New Data ✨</p>"
   ]
  },
  {
   "cell_type": "markdown",
   "id": "b93961d1",
   "metadata": {},
   "source": [
    "<a href=\"#toc\" class=\"btn btn-warning btn-lg active\" role=\"button\" aria-pressed=\"true\" style=\"color:black;\">Content</a>"
   ]
  },
  {
   "cell_type": "code",
   "execution_count": 75,
   "id": "stable-kansas",
   "metadata": {
    "id": "stable-kansas"
   },
   "outputs": [],
   "source": [
    "adv = [[150, 20, 15]]\n",
    "\n",
    "# Let's create a new observation point on which we will get a prediction.\n",
    "# Keep in mind that even if you're getting prediction on a single observation,\n",
    "# it still has to be represented as 2-D because ML models in scikit-learn accepts only 2-D data. IMPORTANT"
   ]
  },
  {
   "cell_type": "code",
   "execution_count": 76,
   "id": "interpreted-packet",
   "metadata": {
    "id": "interpreted-packet",
    "outputId": "3814388d-1a59-42c1-cb43-119f4c5c1bb4"
   },
   "outputs": [
    {
     "data": {
      "text/plain": [
       "[[150, 20, 15]]"
      ]
     },
     "execution_count": 76,
     "metadata": {},
     "output_type": "execute_result"
    }
   ],
   "source": [
    "adv"
   ]
  },
  {
   "cell_type": "code",
   "execution_count": 77,
   "id": "liberal-lexington",
   "metadata": {
    "id": "liberal-lexington",
    "outputId": "821c1daf-d01f-40ef-be11-102a83247065"
   },
   "outputs": [
    {
     "data": {
      "text/plain": [
       "array([13.55862413])"
      ]
     },
     "execution_count": 77,
     "metadata": {},
     "output_type": "execute_result"
    }
   ],
   "source": [
    "final_model.predict(adv)\n",
    "\n",
    "# Getting the prediction"
   ]
  },
  {
   "cell_type": "code",
   "execution_count": 78,
   "id": "handy-producer",
   "metadata": {
    "id": "handy-producer"
   },
   "outputs": [],
   "source": [
    "adv_2 = [[160, 20, 15]]\n",
    "\n",
    "# We increased the first value by 10 (this value represents the TV value in this observation) and kept all else the same."
   ]
  },
  {
   "cell_type": "code",
   "execution_count": 79,
   "id": "medium-firmware",
   "metadata": {
    "id": "medium-firmware",
    "outputId": "d513641e-e944-4197-a38f-8510e8365141"
   },
   "outputs": [
    {
     "data": {
      "text/plain": [
       "array([14.01627059])"
      ]
     },
     "execution_count": 79,
     "metadata": {},
     "output_type": "execute_result"
    }
   ],
   "source": [
    "final_model.predict(adv_2)\n",
    "\n",
    "# Get the predictions."
   ]
  },
  {
   "cell_type": "code",
   "execution_count": 80,
   "id": "4d19fe9b",
   "metadata": {
    "id": "4d19fe9b",
    "outputId": "2576f5ad-aa95-4788-c296-b69ac67d67a1"
   },
   "outputs": [
    {
     "data": {
      "text/plain": [
       "0.4576464599999994"
      ]
     },
     "execution_count": 80,
     "metadata": {},
     "output_type": "execute_result"
    }
   ],
   "source": [
    "14.01627059 - 13.55862413\n",
    "\n",
    "# The difference between the predicted values is the coefficient of TV multiplied by 10.\n",
    "# This makes sense, right? Because we only increased the TV value by 10.\n",
    "# Bu fark katsayilardan geliyor  ."
   ]
  },
  {
   "cell_type": "markdown",
   "id": "c0a4c07b",
   "metadata": {},
   "source": [
    "<a id=\"16\"></a>\n",
    "# <p style=\"background-color:#3498DB; font-family:newtimeroman;color:#FFF9ED; font-size:150%; text-align:center; border-radius: 15px 50px;\"> ✨ The effect of features on the predicted label ✨</p>"
   ]
  },
  {
   "cell_type": "code",
   "execution_count": 81,
   "id": "chubby-representation",
   "metadata": {
    "id": "chubby-representation",
    "outputId": "11468f94-010a-4c4d-aa4f-114c7b86bbd0"
   },
   "outputs": [
    {
     "data": {
      "text/plain": [
       "array([ 0.04576465,  0.18853002, -0.00103749])"
      ]
     },
     "execution_count": 81,
     "metadata": {},
     "output_type": "execute_result"
    }
   ],
   "source": [
    "final_model.coef_"
   ]
  },
  {
   "cell_type": "code",
   "execution_count": 82,
   "id": "51cb2dd6",
   "metadata": {
    "id": "51cb2dd6",
    "outputId": "0f74e3e0-6d5a-4fa4-fe2f-302424ac3263"
   },
   "outputs": [
    {
     "data": {
      "text/html": [
       "<div>\n",
       "<style scoped>\n",
       "    .dataframe tbody tr th:only-of-type {\n",
       "        vertical-align: middle;\n",
       "    }\n",
       "\n",
       "    .dataframe tbody tr th {\n",
       "        vertical-align: top;\n",
       "    }\n",
       "\n",
       "    .dataframe thead th {\n",
       "        text-align: right;\n",
       "    }\n",
       "</style>\n",
       "<table border=\"1\" class=\"dataframe\">\n",
       "  <thead>\n",
       "    <tr style=\"text-align: right;\">\n",
       "      <th></th>\n",
       "      <th>TV</th>\n",
       "      <th>radio</th>\n",
       "      <th>newspaper</th>\n",
       "      <th>sales</th>\n",
       "    </tr>\n",
       "  </thead>\n",
       "  <tbody>\n",
       "    <tr>\n",
       "      <th>count</th>\n",
       "      <td>200.000000</td>\n",
       "      <td>200.000000</td>\n",
       "      <td>200.000000</td>\n",
       "      <td>200.000000</td>\n",
       "    </tr>\n",
       "    <tr>\n",
       "      <th>mean</th>\n",
       "      <td>147.042500</td>\n",
       "      <td>23.264000</td>\n",
       "      <td>30.554000</td>\n",
       "      <td>14.022500</td>\n",
       "    </tr>\n",
       "    <tr>\n",
       "      <th>std</th>\n",
       "      <td>85.854236</td>\n",
       "      <td>14.846809</td>\n",
       "      <td>21.778621</td>\n",
       "      <td>5.217457</td>\n",
       "    </tr>\n",
       "    <tr>\n",
       "      <th>min</th>\n",
       "      <td>0.700000</td>\n",
       "      <td>0.000000</td>\n",
       "      <td>0.300000</td>\n",
       "      <td>1.600000</td>\n",
       "    </tr>\n",
       "    <tr>\n",
       "      <th>25%</th>\n",
       "      <td>74.375000</td>\n",
       "      <td>9.975000</td>\n",
       "      <td>12.750000</td>\n",
       "      <td>10.375000</td>\n",
       "    </tr>\n",
       "    <tr>\n",
       "      <th>50%</th>\n",
       "      <td>149.750000</td>\n",
       "      <td>22.900000</td>\n",
       "      <td>25.750000</td>\n",
       "      <td>12.900000</td>\n",
       "    </tr>\n",
       "    <tr>\n",
       "      <th>75%</th>\n",
       "      <td>218.825000</td>\n",
       "      <td>36.525000</td>\n",
       "      <td>45.100000</td>\n",
       "      <td>17.400000</td>\n",
       "    </tr>\n",
       "    <tr>\n",
       "      <th>max</th>\n",
       "      <td>296.400000</td>\n",
       "      <td>49.600000</td>\n",
       "      <td>114.000000</td>\n",
       "      <td>27.000000</td>\n",
       "    </tr>\n",
       "  </tbody>\n",
       "</table>\n",
       "</div>"
      ],
      "text/plain": [
       "               TV       radio   newspaper       sales\n",
       "count  200.000000  200.000000  200.000000  200.000000\n",
       "mean   147.042500   23.264000   30.554000   14.022500\n",
       "std     85.854236   14.846809   21.778621    5.217457\n",
       "min      0.700000    0.000000    0.300000    1.600000\n",
       "25%     74.375000    9.975000   12.750000   10.375000\n",
       "50%    149.750000   22.900000   25.750000   12.900000\n",
       "75%    218.825000   36.525000   45.100000   17.400000\n",
       "max    296.400000   49.600000  114.000000   27.000000"
      ]
     },
     "execution_count": 82,
     "metadata": {},
     "output_type": "execute_result"
    }
   ],
   "source": [
    "df.describe()\n",
    "\n",
    "# To be able to determine which independent feature is more important by looking at their coefficients,\n",
    "# they all need to be on the same scale. We will talk more about this in the upcoming lectures."
   ]
  },
  {
   "cell_type": "markdown",
   "id": "a697c38f",
   "metadata": {},
   "source": [
    "<button type=\"button\" class=\"btn btn-lg btn-danger\" data-toggle=\"popover\" title=\"Popover title\">Info</button>\n",
    "<a href=\"#toc\" class=\"btn btn-warning btn-lg active\" role=\"button\" aria-pressed=\"true\" style=\"color:black;\">Content</a>"
   ]
  },
  {
   "cell_type": "markdown",
   "id": "dbc1537a",
   "metadata": {},
   "source": [
    "<div style=\"background-color:#3498DB; padding:10px; border-radius: 10px; box-shadow: 2px 2px 4px rgba(0, 0, 0, 0.5);\">\n",
    "    <p style=\"font-weight: bold; color: white;\">To make meaningful interpretations of coefficients based on their magnitudes, it is essential that the scales of the columns are the same. They should be on the same scale, ideally with minimum and maximum values, to standardize them for coefficient evaluation.</p>\n",
    "</div>\n"
   ]
  },
  {
   "cell_type": "markdown",
   "id": "3700cb72",
   "metadata": {},
   "source": [
    "<h3 style=\"text-align:center;font-size:200%;\">Progress Bars</h3>\n",
    "<div class=\"progress\">\n",
    "  <div class=\"progress-bar bg-danger\" role=\"progressbar\" style=\"width: 100%;\" aria-valuenow=\"100\" aria-valuemin=\"100\" aria-valuemax=\"100\">100%</div>\n",
    "</div>\n",
    "\n"
   ]
  },
  {
   "cell_type": "markdown",
   "id": "5bee9814",
   "metadata": {},
   "source": [
    "<a id=\"the_end\"></a>\n",
    "# <p style=\"background-color:#FF6961; font-family:newtimeroman;color:#FFF9ED; font-size:150%; text-align:center; border-radius: 15px 50px;\"> ✨ THE END ✨</p>\n",
    "\n"
   ]
  },
  {
   "cell_type": "markdown",
   "id": "98c76a7c",
   "metadata": {},
   "source": [
    "<a href=\"#toc\" class=\"btn btn-warning btn-lg active\" role=\"button\" aria-pressed=\"true\" style=\"color:black;\">Content</a>"
   ]
  },
  {
   "cell_type": "markdown",
   "id": "cfcf3c2c",
   "metadata": {},
   "source": [
    "<h6><span class=\"label label-danger\">Attention</span>You can access the entire study through the following links. Good luck with your work. </h6>"
   ]
  },
  {
   "cell_type": "markdown",
   "id": "b8c085b2",
   "metadata": {},
   "source": [
    "<ul class=\"nav flex-column\">\n",
    "  <h3 class=\"list-group-item list-group-item-action active\" data-toggle=\"list\" role=\"tab\" aria-controls=\"home\" style=\"background-color:#FF6961; color:white\"><b> 📈 Multiple Linear Regression and Regression Error Metrics 📚 </b></h3>\n",
    "  <li class=\"nav-item\">\n",
    "    <a class=\"nav-link\" style=\"background-color:; color:red\" href=\"https://github.com/huseyincenik/machine_learning/tree/main/Project/multiple_linear_regression_and_regression_error_metrics\"><b>Github Notebook Link</b></a>\n",
    "  </li>\n",
    "    <li class=\"nav-item\">\n",
    "    <a class=\"nav-link\" style=\"background-color:; color:blue\" href=\"https://www.kaggle.com/huseyincenik/multiple-linear-regression-and-regression-error\"><b>Kaggle Notebook Link</b></a>\n",
    "  </li>  \n",
    "  <li class=\"nav-item\">\n",
    "    <a class=\"nav-link\" style=\"background-color:; color:green\" href=\"https://www.linkedin.com/in/huseyincenik/\"><b>My Linkedin Account</b></a>\n",
    "  </li>\n",
    "</ul>\n"
   ]
  }
 ],
 "metadata": {
  "colab": {
   "provenance": []
  },
  "kernelspec": {
   "display_name": "Python 3 (ipykernel)",
   "language": "python",
   "name": "python3"
  },
  "language_info": {
   "codemirror_mode": {
    "name": "ipython",
    "version": 3
   },
   "file_extension": ".py",
   "mimetype": "text/x-python",
   "name": "python",
   "nbconvert_exporter": "python",
   "pygments_lexer": "ipython3",
   "version": "3.10.9"
  },
  "toc": {
   "base_numbering": 1,
   "nav_menu": {},
   "number_sections": true,
   "sideBar": true,
   "skip_h1_title": false,
   "title_cell": "Table of Contents",
   "title_sidebar": "Contents",
   "toc_cell": false,
   "toc_position": {},
   "toc_section_display": true,
   "toc_window_display": false
  }
 },
 "nbformat": 4,
 "nbformat_minor": 5
}
